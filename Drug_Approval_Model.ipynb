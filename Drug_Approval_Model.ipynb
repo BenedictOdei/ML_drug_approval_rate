{
  "cells": [
    {
      "cell_type": "markdown",
      "metadata": {
        "id": "view-in-github",
        "colab_type": "text"
      },
      "source": [
        "<a href=\"https://colab.research.google.com/github/Godwin-Anku/ML_drug_approval_rate/blob/main/Drug_Approval_Model.ipynb\" target=\"_parent\"><img src=\"https://colab.research.google.com/assets/colab-badge.svg\" alt=\"Open In Colab\"/></a>"
      ]
    },
    {
      "cell_type": "code",
      "execution_count": 104,
      "metadata": {
        "id": "sfSJ6bb6RoHp"
      },
      "outputs": [],
      "source": [
        "import numpy as np\n",
        "import pandas as pd\n",
        "import matplotlib.pyplot as plt\n",
        "import sklearn.feature_extraction.text\n",
        "from sklearn.preprocessing import StandardScaler\n",
        "from sklearn.model_selection import train_test_split\n",
        "from sklearn.ensemble import RandomForestRegressor\n",
        "from sklearn.metrics import mean_absolute_error, mean_squared_error, r2_score"
      ]
    },
    {
      "cell_type": "code",
      "execution_count": 105,
      "metadata": {
        "colab": {
          "base_uri": "https://localhost:8080/",
          "height": 538
        },
        "id": "EW3XIkBGcPnw",
        "outputId": "ab193f97-3826-4f51-da5a-9fe4a8adc99c"
      },
      "outputs": [
        {
          "output_type": "execute_result",
          "data": {
            "text/plain": [
              "              Medicine Name  \\\n",
              "0   Avastin 400mg Injection   \n",
              "1  Augmentin 625 Duo Tablet   \n",
              "2       Azithral 500 Tablet   \n",
              "3          Ascoril LS Syrup   \n",
              "4         Aciloc 150 Tablet   \n",
              "\n",
              "                                         Composition  \\\n",
              "0                                Bevacizumab (400mg)   \n",
              "1    Amoxycillin  (500mg) +  Clavulanic Acid (125mg)   \n",
              "2                               Azithromycin (500mg)   \n",
              "3  Ambroxol (30mg/5ml) + Levosalbutamol (1mg/5ml)...   \n",
              "4                                 Ranitidine (150mg)   \n",
              "\n",
              "                                                Uses  \\\n",
              "0   Cancer of colon and rectum Non-small cell lun...   \n",
              "1                  Treatment of Bacterial infections   \n",
              "2                  Treatment of Bacterial infections   \n",
              "3                      Treatment of Cough with mucus   \n",
              "4  Treatment of Gastroesophageal reflux disease (...   \n",
              "\n",
              "                                        Side_effects  \\\n",
              "0  Rectal bleeding Taste change Headache Noseblee...   \n",
              "1  Vomiting Nausea Diarrhea Mucocutaneous candidi...   \n",
              "2                     Nausea Abdominal pain Diarrhea   \n",
              "3  Nausea Vomiting Diarrhea Upset stomach Stomach...   \n",
              "4     Headache Diarrhea Gastrointestinal disturbance   \n",
              "\n",
              "                                           Image URL  \\\n",
              "0  https://onemg.gumlet.io/l_watermark_346,w_480,...   \n",
              "1  https://onemg.gumlet.io/l_watermark_346,w_480,...   \n",
              "2  https://onemg.gumlet.io/l_watermark_346,w_480,...   \n",
              "3  https://onemg.gumlet.io/l_watermark_346,w_480,...   \n",
              "4  https://onemg.gumlet.io/l_watermark_346,w_480,...   \n",
              "\n",
              "                           Manufacturer  Excellent Review %  Average Review %  \\\n",
              "0          Roche Products India Pvt Ltd                  22                56   \n",
              "1  Glaxo SmithKline Pharmaceuticals Ltd                  47                35   \n",
              "2           Alembic Pharmaceuticals Ltd                  39                40   \n",
              "3          Glenmark Pharmaceuticals Ltd                  24                41   \n",
              "4            Cadila Pharmaceuticals Ltd                  34                37   \n",
              "\n",
              "   Poor Review %  \n",
              "0             22  \n",
              "1             18  \n",
              "2             21  \n",
              "3             35  \n",
              "4             29  "
            ],
            "text/html": [
              "\n",
              "  <div id=\"df-5ef5cc7f-f438-4ed9-af8f-5051074b3620\" class=\"colab-df-container\">\n",
              "    <div>\n",
              "<style scoped>\n",
              "    .dataframe tbody tr th:only-of-type {\n",
              "        vertical-align: middle;\n",
              "    }\n",
              "\n",
              "    .dataframe tbody tr th {\n",
              "        vertical-align: top;\n",
              "    }\n",
              "\n",
              "    .dataframe thead th {\n",
              "        text-align: right;\n",
              "    }\n",
              "</style>\n",
              "<table border=\"1\" class=\"dataframe\">\n",
              "  <thead>\n",
              "    <tr style=\"text-align: right;\">\n",
              "      <th></th>\n",
              "      <th>Medicine Name</th>\n",
              "      <th>Composition</th>\n",
              "      <th>Uses</th>\n",
              "      <th>Side_effects</th>\n",
              "      <th>Image URL</th>\n",
              "      <th>Manufacturer</th>\n",
              "      <th>Excellent Review %</th>\n",
              "      <th>Average Review %</th>\n",
              "      <th>Poor Review %</th>\n",
              "    </tr>\n",
              "  </thead>\n",
              "  <tbody>\n",
              "    <tr>\n",
              "      <th>0</th>\n",
              "      <td>Avastin 400mg Injection</td>\n",
              "      <td>Bevacizumab (400mg)</td>\n",
              "      <td>Cancer of colon and rectum Non-small cell lun...</td>\n",
              "      <td>Rectal bleeding Taste change Headache Noseblee...</td>\n",
              "      <td>https://onemg.gumlet.io/l_watermark_346,w_480,...</td>\n",
              "      <td>Roche Products India Pvt Ltd</td>\n",
              "      <td>22</td>\n",
              "      <td>56</td>\n",
              "      <td>22</td>\n",
              "    </tr>\n",
              "    <tr>\n",
              "      <th>1</th>\n",
              "      <td>Augmentin 625 Duo Tablet</td>\n",
              "      <td>Amoxycillin  (500mg) +  Clavulanic Acid (125mg)</td>\n",
              "      <td>Treatment of Bacterial infections</td>\n",
              "      <td>Vomiting Nausea Diarrhea Mucocutaneous candidi...</td>\n",
              "      <td>https://onemg.gumlet.io/l_watermark_346,w_480,...</td>\n",
              "      <td>Glaxo SmithKline Pharmaceuticals Ltd</td>\n",
              "      <td>47</td>\n",
              "      <td>35</td>\n",
              "      <td>18</td>\n",
              "    </tr>\n",
              "    <tr>\n",
              "      <th>2</th>\n",
              "      <td>Azithral 500 Tablet</td>\n",
              "      <td>Azithromycin (500mg)</td>\n",
              "      <td>Treatment of Bacterial infections</td>\n",
              "      <td>Nausea Abdominal pain Diarrhea</td>\n",
              "      <td>https://onemg.gumlet.io/l_watermark_346,w_480,...</td>\n",
              "      <td>Alembic Pharmaceuticals Ltd</td>\n",
              "      <td>39</td>\n",
              "      <td>40</td>\n",
              "      <td>21</td>\n",
              "    </tr>\n",
              "    <tr>\n",
              "      <th>3</th>\n",
              "      <td>Ascoril LS Syrup</td>\n",
              "      <td>Ambroxol (30mg/5ml) + Levosalbutamol (1mg/5ml)...</td>\n",
              "      <td>Treatment of Cough with mucus</td>\n",
              "      <td>Nausea Vomiting Diarrhea Upset stomach Stomach...</td>\n",
              "      <td>https://onemg.gumlet.io/l_watermark_346,w_480,...</td>\n",
              "      <td>Glenmark Pharmaceuticals Ltd</td>\n",
              "      <td>24</td>\n",
              "      <td>41</td>\n",
              "      <td>35</td>\n",
              "    </tr>\n",
              "    <tr>\n",
              "      <th>4</th>\n",
              "      <td>Aciloc 150 Tablet</td>\n",
              "      <td>Ranitidine (150mg)</td>\n",
              "      <td>Treatment of Gastroesophageal reflux disease (...</td>\n",
              "      <td>Headache Diarrhea Gastrointestinal disturbance</td>\n",
              "      <td>https://onemg.gumlet.io/l_watermark_346,w_480,...</td>\n",
              "      <td>Cadila Pharmaceuticals Ltd</td>\n",
              "      <td>34</td>\n",
              "      <td>37</td>\n",
              "      <td>29</td>\n",
              "    </tr>\n",
              "  </tbody>\n",
              "</table>\n",
              "</div>\n",
              "    <div class=\"colab-df-buttons\">\n",
              "\n",
              "  <div class=\"colab-df-container\">\n",
              "    <button class=\"colab-df-convert\" onclick=\"convertToInteractive('df-5ef5cc7f-f438-4ed9-af8f-5051074b3620')\"\n",
              "            title=\"Convert this dataframe to an interactive table.\"\n",
              "            style=\"display:none;\">\n",
              "\n",
              "  <svg xmlns=\"http://www.w3.org/2000/svg\" height=\"24px\" viewBox=\"0 -960 960 960\">\n",
              "    <path d=\"M120-120v-720h720v720H120Zm60-500h600v-160H180v160Zm220 220h160v-160H400v160Zm0 220h160v-160H400v160ZM180-400h160v-160H180v160Zm440 0h160v-160H620v160ZM180-180h160v-160H180v160Zm440 0h160v-160H620v160Z\"/>\n",
              "  </svg>\n",
              "    </button>\n",
              "\n",
              "  <style>\n",
              "    .colab-df-container {\n",
              "      display:flex;\n",
              "      gap: 12px;\n",
              "    }\n",
              "\n",
              "    .colab-df-convert {\n",
              "      background-color: #E8F0FE;\n",
              "      border: none;\n",
              "      border-radius: 50%;\n",
              "      cursor: pointer;\n",
              "      display: none;\n",
              "      fill: #1967D2;\n",
              "      height: 32px;\n",
              "      padding: 0 0 0 0;\n",
              "      width: 32px;\n",
              "    }\n",
              "\n",
              "    .colab-df-convert:hover {\n",
              "      background-color: #E2EBFA;\n",
              "      box-shadow: 0px 1px 2px rgba(60, 64, 67, 0.3), 0px 1px 3px 1px rgba(60, 64, 67, 0.15);\n",
              "      fill: #174EA6;\n",
              "    }\n",
              "\n",
              "    .colab-df-buttons div {\n",
              "      margin-bottom: 4px;\n",
              "    }\n",
              "\n",
              "    [theme=dark] .colab-df-convert {\n",
              "      background-color: #3B4455;\n",
              "      fill: #D2E3FC;\n",
              "    }\n",
              "\n",
              "    [theme=dark] .colab-df-convert:hover {\n",
              "      background-color: #434B5C;\n",
              "      box-shadow: 0px 1px 3px 1px rgba(0, 0, 0, 0.15);\n",
              "      filter: drop-shadow(0px 1px 2px rgba(0, 0, 0, 0.3));\n",
              "      fill: #FFFFFF;\n",
              "    }\n",
              "  </style>\n",
              "\n",
              "    <script>\n",
              "      const buttonEl =\n",
              "        document.querySelector('#df-5ef5cc7f-f438-4ed9-af8f-5051074b3620 button.colab-df-convert');\n",
              "      buttonEl.style.display =\n",
              "        google.colab.kernel.accessAllowed ? 'block' : 'none';\n",
              "\n",
              "      async function convertToInteractive(key) {\n",
              "        const element = document.querySelector('#df-5ef5cc7f-f438-4ed9-af8f-5051074b3620');\n",
              "        const dataTable =\n",
              "          await google.colab.kernel.invokeFunction('convertToInteractive',\n",
              "                                                    [key], {});\n",
              "        if (!dataTable) return;\n",
              "\n",
              "        const docLinkHtml = 'Like what you see? Visit the ' +\n",
              "          '<a target=\"_blank\" href=https://colab.research.google.com/notebooks/data_table.ipynb>data table notebook</a>'\n",
              "          + ' to learn more about interactive tables.';\n",
              "        element.innerHTML = '';\n",
              "        dataTable['output_type'] = 'display_data';\n",
              "        await google.colab.output.renderOutput(dataTable, element);\n",
              "        const docLink = document.createElement('div');\n",
              "        docLink.innerHTML = docLinkHtml;\n",
              "        element.appendChild(docLink);\n",
              "      }\n",
              "    </script>\n",
              "  </div>\n",
              "\n",
              "\n",
              "<div id=\"df-b44532c0-d177-431b-b4f5-df7ac1b2acdd\">\n",
              "  <button class=\"colab-df-quickchart\" onclick=\"quickchart('df-b44532c0-d177-431b-b4f5-df7ac1b2acdd')\"\n",
              "            title=\"Suggest charts\"\n",
              "            style=\"display:none;\">\n",
              "\n",
              "<svg xmlns=\"http://www.w3.org/2000/svg\" height=\"24px\"viewBox=\"0 0 24 24\"\n",
              "     width=\"24px\">\n",
              "    <g>\n",
              "        <path d=\"M19 3H5c-1.1 0-2 .9-2 2v14c0 1.1.9 2 2 2h14c1.1 0 2-.9 2-2V5c0-1.1-.9-2-2-2zM9 17H7v-7h2v7zm4 0h-2V7h2v10zm4 0h-2v-4h2v4z\"/>\n",
              "    </g>\n",
              "</svg>\n",
              "  </button>\n",
              "\n",
              "<style>\n",
              "  .colab-df-quickchart {\n",
              "      --bg-color: #E8F0FE;\n",
              "      --fill-color: #1967D2;\n",
              "      --hover-bg-color: #E2EBFA;\n",
              "      --hover-fill-color: #174EA6;\n",
              "      --disabled-fill-color: #AAA;\n",
              "      --disabled-bg-color: #DDD;\n",
              "  }\n",
              "\n",
              "  [theme=dark] .colab-df-quickchart {\n",
              "      --bg-color: #3B4455;\n",
              "      --fill-color: #D2E3FC;\n",
              "      --hover-bg-color: #434B5C;\n",
              "      --hover-fill-color: #FFFFFF;\n",
              "      --disabled-bg-color: #3B4455;\n",
              "      --disabled-fill-color: #666;\n",
              "  }\n",
              "\n",
              "  .colab-df-quickchart {\n",
              "    background-color: var(--bg-color);\n",
              "    border: none;\n",
              "    border-radius: 50%;\n",
              "    cursor: pointer;\n",
              "    display: none;\n",
              "    fill: var(--fill-color);\n",
              "    height: 32px;\n",
              "    padding: 0;\n",
              "    width: 32px;\n",
              "  }\n",
              "\n",
              "  .colab-df-quickchart:hover {\n",
              "    background-color: var(--hover-bg-color);\n",
              "    box-shadow: 0 1px 2px rgba(60, 64, 67, 0.3), 0 1px 3px 1px rgba(60, 64, 67, 0.15);\n",
              "    fill: var(--button-hover-fill-color);\n",
              "  }\n",
              "\n",
              "  .colab-df-quickchart-complete:disabled,\n",
              "  .colab-df-quickchart-complete:disabled:hover {\n",
              "    background-color: var(--disabled-bg-color);\n",
              "    fill: var(--disabled-fill-color);\n",
              "    box-shadow: none;\n",
              "  }\n",
              "\n",
              "  .colab-df-spinner {\n",
              "    border: 2px solid var(--fill-color);\n",
              "    border-color: transparent;\n",
              "    border-bottom-color: var(--fill-color);\n",
              "    animation:\n",
              "      spin 1s steps(1) infinite;\n",
              "  }\n",
              "\n",
              "  @keyframes spin {\n",
              "    0% {\n",
              "      border-color: transparent;\n",
              "      border-bottom-color: var(--fill-color);\n",
              "      border-left-color: var(--fill-color);\n",
              "    }\n",
              "    20% {\n",
              "      border-color: transparent;\n",
              "      border-left-color: var(--fill-color);\n",
              "      border-top-color: var(--fill-color);\n",
              "    }\n",
              "    30% {\n",
              "      border-color: transparent;\n",
              "      border-left-color: var(--fill-color);\n",
              "      border-top-color: var(--fill-color);\n",
              "      border-right-color: var(--fill-color);\n",
              "    }\n",
              "    40% {\n",
              "      border-color: transparent;\n",
              "      border-right-color: var(--fill-color);\n",
              "      border-top-color: var(--fill-color);\n",
              "    }\n",
              "    60% {\n",
              "      border-color: transparent;\n",
              "      border-right-color: var(--fill-color);\n",
              "    }\n",
              "    80% {\n",
              "      border-color: transparent;\n",
              "      border-right-color: var(--fill-color);\n",
              "      border-bottom-color: var(--fill-color);\n",
              "    }\n",
              "    90% {\n",
              "      border-color: transparent;\n",
              "      border-bottom-color: var(--fill-color);\n",
              "    }\n",
              "  }\n",
              "</style>\n",
              "\n",
              "  <script>\n",
              "    async function quickchart(key) {\n",
              "      const quickchartButtonEl =\n",
              "        document.querySelector('#' + key + ' button');\n",
              "      quickchartButtonEl.disabled = true;  // To prevent multiple clicks.\n",
              "      quickchartButtonEl.classList.add('colab-df-spinner');\n",
              "      try {\n",
              "        const charts = await google.colab.kernel.invokeFunction(\n",
              "            'suggestCharts', [key], {});\n",
              "      } catch (error) {\n",
              "        console.error('Error during call to suggestCharts:', error);\n",
              "      }\n",
              "      quickchartButtonEl.classList.remove('colab-df-spinner');\n",
              "      quickchartButtonEl.classList.add('colab-df-quickchart-complete');\n",
              "    }\n",
              "    (() => {\n",
              "      let quickchartButtonEl =\n",
              "        document.querySelector('#df-b44532c0-d177-431b-b4f5-df7ac1b2acdd button');\n",
              "      quickchartButtonEl.style.display =\n",
              "        google.colab.kernel.accessAllowed ? 'block' : 'none';\n",
              "    })();\n",
              "  </script>\n",
              "</div>\n",
              "\n",
              "    </div>\n",
              "  </div>\n"
            ],
            "application/vnd.google.colaboratory.intrinsic+json": {
              "type": "dataframe",
              "variable_name": "drug_df",
              "summary": "{\n  \"name\": \"drug_df\",\n  \"rows\": 11825,\n  \"fields\": [\n    {\n      \"column\": \"Medicine Name\",\n      \"properties\": {\n        \"dtype\": \"string\",\n        \"num_unique_values\": 11498,\n        \"samples\": [\n          \"Mixbiotic-AC Ear Drop\",\n          \"Druffnil Shampoo\",\n          \"Fungicip 150mg Tablet\"\n        ],\n        \"semantic_type\": \"\",\n        \"description\": \"\"\n      }\n    },\n    {\n      \"column\": \"Composition\",\n      \"properties\": {\n        \"dtype\": \"category\",\n        \"num_unique_values\": 3358,\n        \"samples\": [\n          \"Blonanserin (4mg)\",\n          \"Indomethacin (50mg)\",\n          \"Metformin  (1000mg) +  Vildagliptin (50mg)\"\n        ],\n        \"semantic_type\": \"\",\n        \"description\": \"\"\n      }\n    },\n    {\n      \"column\": \"Uses\",\n      \"properties\": {\n        \"dtype\": \"category\",\n        \"num_unique_values\": 712,\n        \"samples\": [\n          \" Hormone replacement therapy Post menopausal osteoporosis\",\n          \"Treatment of Rheumatoid arthritisTreatment of PsoriasisTreatment of CancerTreatment of Crohn\\u2019s disease\",\n          \"Treatment of Dandruff\"\n        ],\n        \"semantic_type\": \"\",\n        \"description\": \"\"\n      }\n    },\n    {\n      \"column\": \"Side_effects\",\n      \"properties\": {\n        \"dtype\": \"category\",\n        \"num_unique_values\": 1512,\n        \"samples\": [\n          \"Headache Loss of appetite Dizziness Weakness Joint pain Muscle pain\",\n          \"Bone pain Weakness Headache Rash Nausea Increased lactate dehydrogenase level in blood Vomiting Increased uric acid level in blood Oropharyngeal pain Hair loss Fatigue Diarrhea Constipation Decreased appetite Cough Breathing problems Injection site reactions pain swelling redness\",\n          \"Nausea Headache Bloating\"\n        ],\n        \"semantic_type\": \"\",\n        \"description\": \"\"\n      }\n    },\n    {\n      \"column\": \"Image URL\",\n      \"properties\": {\n        \"dtype\": \"string\",\n        \"num_unique_values\": 11740,\n        \"samples\": [\n          \"https://onemg.gumlet.io/l_watermark_346,w_480,h_480/a_ignore,w_480,h_480,c_fit,q_auto,f_auto/cropped/rc4zmux1wvjslaaxh4vy.jpg\",\n          \"https://onemg.gumlet.io/l_watermark_346,w_480,h_480/a_ignore,w_480,h_480,c_fit,q_auto,f_auto/lae9sgpkmgw0frgzsr8g.jpg\",\n          \"https://onemg.gumlet.io/l_watermark_346,w_480,h_480/a_ignore,w_480,h_480,c_fit,q_auto,f_auto/6bd6125eab5e4e8b847f467b90f06098.jpg\"\n        ],\n        \"semantic_type\": \"\",\n        \"description\": \"\"\n      }\n    },\n    {\n      \"column\": \"Manufacturer\",\n      \"properties\": {\n        \"dtype\": \"category\",\n        \"num_unique_values\": 759,\n        \"samples\": [\n          \"Jupiter Pharmaceutical Ltd\",\n          \"Rivan Pharma\",\n          \"Inga Laboratories Pvt Ltd\"\n        ],\n        \"semantic_type\": \"\",\n        \"description\": \"\"\n      }\n    },\n    {\n      \"column\": \"Excellent Review %\",\n      \"properties\": {\n        \"dtype\": \"number\",\n        \"std\": 25,\n        \"min\": 0,\n        \"max\": 100,\n        \"num_unique_values\": 85,\n        \"samples\": [\n          9,\n          22,\n          75\n        ],\n        \"semantic_type\": \"\",\n        \"description\": \"\"\n      }\n    },\n    {\n      \"column\": \"Average Review %\",\n      \"properties\": {\n        \"dtype\": \"number\",\n        \"std\": 18,\n        \"min\": 0,\n        \"max\": 88,\n        \"num_unique_values\": 79,\n        \"samples\": [\n          57,\n          56,\n          24\n        ],\n        \"semantic_type\": \"\",\n        \"description\": \"\"\n      }\n    },\n    {\n      \"column\": \"Poor Review %\",\n      \"properties\": {\n        \"dtype\": \"number\",\n        \"std\": 23,\n        \"min\": 0,\n        \"max\": 100,\n        \"num_unique_values\": 81,\n        \"samples\": [\n          12,\n          22,\n          13\n        ],\n        \"semantic_type\": \"\",\n        \"description\": \"\"\n      }\n    }\n  ]\n}"
            }
          },
          "metadata": {},
          "execution_count": 105
        }
      ],
      "source": [
        "drug_df = pd.read_csv(\"/content/Medicine_Details.csv\")\n",
        "drug_df.head()"
      ]
    },
    {
      "cell_type": "code",
      "source": [
        "drug_df.describe()"
      ],
      "metadata": {
        "colab": {
          "base_uri": "https://localhost:8080/",
          "height": 300
        },
        "id": "JxameS6pTp2R",
        "outputId": "90ab50f9-2d0d-4c89-93ab-0c3d15779bdb"
      },
      "execution_count": 106,
      "outputs": [
        {
          "output_type": "execute_result",
          "data": {
            "text/plain": [
              "       Excellent Review %  Average Review %  Poor Review %\n",
              "count        11825.000000      11825.000000   11825.000000\n",
              "mean            38.516025         35.756364      25.727611\n",
              "std             25.225343         18.268134      23.991985\n",
              "min              0.000000          0.000000       0.000000\n",
              "25%             22.000000         27.000000       0.000000\n",
              "50%             34.000000         35.000000      22.000000\n",
              "75%             51.000000         47.000000      35.000000\n",
              "max            100.000000         88.000000     100.000000"
            ],
            "text/html": [
              "\n",
              "  <div id=\"df-6de170ad-690d-43d5-a50b-16a075576e33\" class=\"colab-df-container\">\n",
              "    <div>\n",
              "<style scoped>\n",
              "    .dataframe tbody tr th:only-of-type {\n",
              "        vertical-align: middle;\n",
              "    }\n",
              "\n",
              "    .dataframe tbody tr th {\n",
              "        vertical-align: top;\n",
              "    }\n",
              "\n",
              "    .dataframe thead th {\n",
              "        text-align: right;\n",
              "    }\n",
              "</style>\n",
              "<table border=\"1\" class=\"dataframe\">\n",
              "  <thead>\n",
              "    <tr style=\"text-align: right;\">\n",
              "      <th></th>\n",
              "      <th>Excellent Review %</th>\n",
              "      <th>Average Review %</th>\n",
              "      <th>Poor Review %</th>\n",
              "    </tr>\n",
              "  </thead>\n",
              "  <tbody>\n",
              "    <tr>\n",
              "      <th>count</th>\n",
              "      <td>11825.000000</td>\n",
              "      <td>11825.000000</td>\n",
              "      <td>11825.000000</td>\n",
              "    </tr>\n",
              "    <tr>\n",
              "      <th>mean</th>\n",
              "      <td>38.516025</td>\n",
              "      <td>35.756364</td>\n",
              "      <td>25.727611</td>\n",
              "    </tr>\n",
              "    <tr>\n",
              "      <th>std</th>\n",
              "      <td>25.225343</td>\n",
              "      <td>18.268134</td>\n",
              "      <td>23.991985</td>\n",
              "    </tr>\n",
              "    <tr>\n",
              "      <th>min</th>\n",
              "      <td>0.000000</td>\n",
              "      <td>0.000000</td>\n",
              "      <td>0.000000</td>\n",
              "    </tr>\n",
              "    <tr>\n",
              "      <th>25%</th>\n",
              "      <td>22.000000</td>\n",
              "      <td>27.000000</td>\n",
              "      <td>0.000000</td>\n",
              "    </tr>\n",
              "    <tr>\n",
              "      <th>50%</th>\n",
              "      <td>34.000000</td>\n",
              "      <td>35.000000</td>\n",
              "      <td>22.000000</td>\n",
              "    </tr>\n",
              "    <tr>\n",
              "      <th>75%</th>\n",
              "      <td>51.000000</td>\n",
              "      <td>47.000000</td>\n",
              "      <td>35.000000</td>\n",
              "    </tr>\n",
              "    <tr>\n",
              "      <th>max</th>\n",
              "      <td>100.000000</td>\n",
              "      <td>88.000000</td>\n",
              "      <td>100.000000</td>\n",
              "    </tr>\n",
              "  </tbody>\n",
              "</table>\n",
              "</div>\n",
              "    <div class=\"colab-df-buttons\">\n",
              "\n",
              "  <div class=\"colab-df-container\">\n",
              "    <button class=\"colab-df-convert\" onclick=\"convertToInteractive('df-6de170ad-690d-43d5-a50b-16a075576e33')\"\n",
              "            title=\"Convert this dataframe to an interactive table.\"\n",
              "            style=\"display:none;\">\n",
              "\n",
              "  <svg xmlns=\"http://www.w3.org/2000/svg\" height=\"24px\" viewBox=\"0 -960 960 960\">\n",
              "    <path d=\"M120-120v-720h720v720H120Zm60-500h600v-160H180v160Zm220 220h160v-160H400v160Zm0 220h160v-160H400v160ZM180-400h160v-160H180v160Zm440 0h160v-160H620v160ZM180-180h160v-160H180v160Zm440 0h160v-160H620v160Z\"/>\n",
              "  </svg>\n",
              "    </button>\n",
              "\n",
              "  <style>\n",
              "    .colab-df-container {\n",
              "      display:flex;\n",
              "      gap: 12px;\n",
              "    }\n",
              "\n",
              "    .colab-df-convert {\n",
              "      background-color: #E8F0FE;\n",
              "      border: none;\n",
              "      border-radius: 50%;\n",
              "      cursor: pointer;\n",
              "      display: none;\n",
              "      fill: #1967D2;\n",
              "      height: 32px;\n",
              "      padding: 0 0 0 0;\n",
              "      width: 32px;\n",
              "    }\n",
              "\n",
              "    .colab-df-convert:hover {\n",
              "      background-color: #E2EBFA;\n",
              "      box-shadow: 0px 1px 2px rgba(60, 64, 67, 0.3), 0px 1px 3px 1px rgba(60, 64, 67, 0.15);\n",
              "      fill: #174EA6;\n",
              "    }\n",
              "\n",
              "    .colab-df-buttons div {\n",
              "      margin-bottom: 4px;\n",
              "    }\n",
              "\n",
              "    [theme=dark] .colab-df-convert {\n",
              "      background-color: #3B4455;\n",
              "      fill: #D2E3FC;\n",
              "    }\n",
              "\n",
              "    [theme=dark] .colab-df-convert:hover {\n",
              "      background-color: #434B5C;\n",
              "      box-shadow: 0px 1px 3px 1px rgba(0, 0, 0, 0.15);\n",
              "      filter: drop-shadow(0px 1px 2px rgba(0, 0, 0, 0.3));\n",
              "      fill: #FFFFFF;\n",
              "    }\n",
              "  </style>\n",
              "\n",
              "    <script>\n",
              "      const buttonEl =\n",
              "        document.querySelector('#df-6de170ad-690d-43d5-a50b-16a075576e33 button.colab-df-convert');\n",
              "      buttonEl.style.display =\n",
              "        google.colab.kernel.accessAllowed ? 'block' : 'none';\n",
              "\n",
              "      async function convertToInteractive(key) {\n",
              "        const element = document.querySelector('#df-6de170ad-690d-43d5-a50b-16a075576e33');\n",
              "        const dataTable =\n",
              "          await google.colab.kernel.invokeFunction('convertToInteractive',\n",
              "                                                    [key], {});\n",
              "        if (!dataTable) return;\n",
              "\n",
              "        const docLinkHtml = 'Like what you see? Visit the ' +\n",
              "          '<a target=\"_blank\" href=https://colab.research.google.com/notebooks/data_table.ipynb>data table notebook</a>'\n",
              "          + ' to learn more about interactive tables.';\n",
              "        element.innerHTML = '';\n",
              "        dataTable['output_type'] = 'display_data';\n",
              "        await google.colab.output.renderOutput(dataTable, element);\n",
              "        const docLink = document.createElement('div');\n",
              "        docLink.innerHTML = docLinkHtml;\n",
              "        element.appendChild(docLink);\n",
              "      }\n",
              "    </script>\n",
              "  </div>\n",
              "\n",
              "\n",
              "<div id=\"df-511f5e17-366b-4e0b-b301-19fe01561f8b\">\n",
              "  <button class=\"colab-df-quickchart\" onclick=\"quickchart('df-511f5e17-366b-4e0b-b301-19fe01561f8b')\"\n",
              "            title=\"Suggest charts\"\n",
              "            style=\"display:none;\">\n",
              "\n",
              "<svg xmlns=\"http://www.w3.org/2000/svg\" height=\"24px\"viewBox=\"0 0 24 24\"\n",
              "     width=\"24px\">\n",
              "    <g>\n",
              "        <path d=\"M19 3H5c-1.1 0-2 .9-2 2v14c0 1.1.9 2 2 2h14c1.1 0 2-.9 2-2V5c0-1.1-.9-2-2-2zM9 17H7v-7h2v7zm4 0h-2V7h2v10zm4 0h-2v-4h2v4z\"/>\n",
              "    </g>\n",
              "</svg>\n",
              "  </button>\n",
              "\n",
              "<style>\n",
              "  .colab-df-quickchart {\n",
              "      --bg-color: #E8F0FE;\n",
              "      --fill-color: #1967D2;\n",
              "      --hover-bg-color: #E2EBFA;\n",
              "      --hover-fill-color: #174EA6;\n",
              "      --disabled-fill-color: #AAA;\n",
              "      --disabled-bg-color: #DDD;\n",
              "  }\n",
              "\n",
              "  [theme=dark] .colab-df-quickchart {\n",
              "      --bg-color: #3B4455;\n",
              "      --fill-color: #D2E3FC;\n",
              "      --hover-bg-color: #434B5C;\n",
              "      --hover-fill-color: #FFFFFF;\n",
              "      --disabled-bg-color: #3B4455;\n",
              "      --disabled-fill-color: #666;\n",
              "  }\n",
              "\n",
              "  .colab-df-quickchart {\n",
              "    background-color: var(--bg-color);\n",
              "    border: none;\n",
              "    border-radius: 50%;\n",
              "    cursor: pointer;\n",
              "    display: none;\n",
              "    fill: var(--fill-color);\n",
              "    height: 32px;\n",
              "    padding: 0;\n",
              "    width: 32px;\n",
              "  }\n",
              "\n",
              "  .colab-df-quickchart:hover {\n",
              "    background-color: var(--hover-bg-color);\n",
              "    box-shadow: 0 1px 2px rgba(60, 64, 67, 0.3), 0 1px 3px 1px rgba(60, 64, 67, 0.15);\n",
              "    fill: var(--button-hover-fill-color);\n",
              "  }\n",
              "\n",
              "  .colab-df-quickchart-complete:disabled,\n",
              "  .colab-df-quickchart-complete:disabled:hover {\n",
              "    background-color: var(--disabled-bg-color);\n",
              "    fill: var(--disabled-fill-color);\n",
              "    box-shadow: none;\n",
              "  }\n",
              "\n",
              "  .colab-df-spinner {\n",
              "    border: 2px solid var(--fill-color);\n",
              "    border-color: transparent;\n",
              "    border-bottom-color: var(--fill-color);\n",
              "    animation:\n",
              "      spin 1s steps(1) infinite;\n",
              "  }\n",
              "\n",
              "  @keyframes spin {\n",
              "    0% {\n",
              "      border-color: transparent;\n",
              "      border-bottom-color: var(--fill-color);\n",
              "      border-left-color: var(--fill-color);\n",
              "    }\n",
              "    20% {\n",
              "      border-color: transparent;\n",
              "      border-left-color: var(--fill-color);\n",
              "      border-top-color: var(--fill-color);\n",
              "    }\n",
              "    30% {\n",
              "      border-color: transparent;\n",
              "      border-left-color: var(--fill-color);\n",
              "      border-top-color: var(--fill-color);\n",
              "      border-right-color: var(--fill-color);\n",
              "    }\n",
              "    40% {\n",
              "      border-color: transparent;\n",
              "      border-right-color: var(--fill-color);\n",
              "      border-top-color: var(--fill-color);\n",
              "    }\n",
              "    60% {\n",
              "      border-color: transparent;\n",
              "      border-right-color: var(--fill-color);\n",
              "    }\n",
              "    80% {\n",
              "      border-color: transparent;\n",
              "      border-right-color: var(--fill-color);\n",
              "      border-bottom-color: var(--fill-color);\n",
              "    }\n",
              "    90% {\n",
              "      border-color: transparent;\n",
              "      border-bottom-color: var(--fill-color);\n",
              "    }\n",
              "  }\n",
              "</style>\n",
              "\n",
              "  <script>\n",
              "    async function quickchart(key) {\n",
              "      const quickchartButtonEl =\n",
              "        document.querySelector('#' + key + ' button');\n",
              "      quickchartButtonEl.disabled = true;  // To prevent multiple clicks.\n",
              "      quickchartButtonEl.classList.add('colab-df-spinner');\n",
              "      try {\n",
              "        const charts = await google.colab.kernel.invokeFunction(\n",
              "            'suggestCharts', [key], {});\n",
              "      } catch (error) {\n",
              "        console.error('Error during call to suggestCharts:', error);\n",
              "      }\n",
              "      quickchartButtonEl.classList.remove('colab-df-spinner');\n",
              "      quickchartButtonEl.classList.add('colab-df-quickchart-complete');\n",
              "    }\n",
              "    (() => {\n",
              "      let quickchartButtonEl =\n",
              "        document.querySelector('#df-511f5e17-366b-4e0b-b301-19fe01561f8b button');\n",
              "      quickchartButtonEl.style.display =\n",
              "        google.colab.kernel.accessAllowed ? 'block' : 'none';\n",
              "    })();\n",
              "  </script>\n",
              "</div>\n",
              "\n",
              "    </div>\n",
              "  </div>\n"
            ],
            "application/vnd.google.colaboratory.intrinsic+json": {
              "type": "dataframe",
              "summary": "{\n  \"name\": \"drug_df\",\n  \"rows\": 8,\n  \"fields\": [\n    {\n      \"column\": \"Excellent Review %\",\n      \"properties\": {\n        \"dtype\": \"number\",\n        \"std\": 4167.195286584972,\n        \"min\": 0.0,\n        \"max\": 11825.0,\n        \"num_unique_values\": 8,\n        \"samples\": [\n          38.516025369978856,\n          34.0,\n          11825.0\n        ],\n        \"semantic_type\": \"\",\n        \"description\": \"\"\n      }\n    },\n    {\n      \"column\": \"Average Review %\",\n      \"properties\": {\n        \"dtype\": \"number\",\n        \"std\": 4168.167605004235,\n        \"min\": 0.0,\n        \"max\": 11825.0,\n        \"num_unique_values\": 8,\n        \"samples\": [\n          35.75636363636364,\n          35.0,\n          11825.0\n        ],\n        \"semantic_type\": \"\",\n        \"description\": \"\"\n      }\n    },\n    {\n      \"column\": \"Poor Review %\",\n      \"properties\": {\n        \"dtype\": \"number\",\n        \"std\": 4170.445111080613,\n        \"min\": 0.0,\n        \"max\": 11825.0,\n        \"num_unique_values\": 7,\n        \"samples\": [\n          11825.0,\n          25.727610993657507,\n          35.0\n        ],\n        \"semantic_type\": \"\",\n        \"description\": \"\"\n      }\n    }\n  ]\n}"
            }
          },
          "metadata": {},
          "execution_count": 106
        }
      ]
    },
    {
      "cell_type": "code",
      "source": [
        "drug_df.isnull().sum()"
      ],
      "metadata": {
        "colab": {
          "base_uri": "https://localhost:8080/"
        },
        "id": "VijKF96Ol6xJ",
        "outputId": "d787c34e-e507-4df9-f155-032fa694fc7c"
      },
      "execution_count": 107,
      "outputs": [
        {
          "output_type": "execute_result",
          "data": {
            "text/plain": [
              "Medicine Name         0\n",
              "Composition           0\n",
              "Uses                  0\n",
              "Side_effects          0\n",
              "Image URL             0\n",
              "Manufacturer          0\n",
              "Excellent Review %    0\n",
              "Average Review %      0\n",
              "Poor Review %         0\n",
              "dtype: int64"
            ]
          },
          "metadata": {},
          "execution_count": 107
        }
      ]
    },
    {
      "cell_type": "code",
      "execution_count": 108,
      "metadata": {
        "colab": {
          "base_uri": "https://localhost:8080/"
        },
        "id": "oW9UFrE3c0zE",
        "outputId": "dfef9727-3d62-42f0-9a7b-67d05aee3a5c"
      },
      "outputs": [
        {
          "output_type": "execute_result",
          "data": {
            "text/plain": [
              "Index(['Medicine Name', 'Composition', 'Uses', 'Side_effects', 'Image URL',\n",
              "       'Manufacturer', 'Excellent Review %', 'Average Review %',\n",
              "       'Poor Review %'],\n",
              "      dtype='object')"
            ]
          },
          "metadata": {},
          "execution_count": 108
        }
      ],
      "source": [
        "df_cols = drug_df.columns\n",
        "drug_df.columns"
      ]
    },
    {
      "cell_type": "code",
      "source": [
        "drug_df.dtypes"
      ],
      "metadata": {
        "colab": {
          "base_uri": "https://localhost:8080/"
        },
        "id": "VZg3N-dB9iAn",
        "outputId": "751e828c-e5f1-410d-ef19-6ac953aaccd4"
      },
      "execution_count": 109,
      "outputs": [
        {
          "output_type": "execute_result",
          "data": {
            "text/plain": [
              "Medicine Name         object\n",
              "Composition           object\n",
              "Uses                  object\n",
              "Side_effects          object\n",
              "Image URL             object\n",
              "Manufacturer          object\n",
              "Excellent Review %     int64\n",
              "Average Review %       int64\n",
              "Poor Review %          int64\n",
              "dtype: object"
            ]
          },
          "metadata": {},
          "execution_count": 109
        }
      ]
    },
    {
      "cell_type": "code",
      "source": [
        "def plot_distribution():\n",
        "  plt.figure(figsize = (12, 3))\n",
        "  plot_data = [\"Excellent Review %\", \"Average Review %\", \"Poor Review %\"]\n",
        "\n",
        "  for i in range(len(plot_data)):\n",
        "    plt.subplot(1, 3, i+1)\n",
        "    plt.title(plot_data[i], fontweight = \"bold\")\n",
        "    plt.hist(drug_df[plot_data[i]], bins = 20)\n",
        "    plt.grid(True)\n",
        "    plt.ylabel(\"Frequency\", fontstyle = \"italic\")\n",
        "    plt.xlabel(plot_data[i], fontstyle = \"italic\")\n",
        "    plt.gca().spines[[\"top\", \"right\"]].set_visible(False)"
      ],
      "metadata": {
        "id": "3DrDXpb_ghet"
      },
      "execution_count": 110,
      "outputs": []
    },
    {
      "cell_type": "code",
      "source": [
        "plot_distribution()"
      ],
      "metadata": {
        "colab": {
          "base_uri": "https://localhost:8080/",
          "height": 333
        },
        "id": "hGHW-3Z2Wos1",
        "outputId": "bedbdf57-10b3-4235-bef4-5a52d0541a4d"
      },
      "execution_count": 111,
      "outputs": [
        {
          "output_type": "display_data",
          "data": {
            "text/plain": [
              "<Figure size 1200x300 with 3 Axes>"
            ],
            "image/png": "[encoded data removed]"
          },
          "metadata": {}
        }
      ]
    },
    {
      "cell_type": "code",
      "source": [
        "drug_df[[\"Excellent Review %\", \"Poor Review %\"]] = StandardScaler().fit_transform(drug_df[[\"Excellent Review %\", \"Poor Review %\"]])\n",
        "drug_df.head()\n"
      ],
      "metadata": {
        "colab": {
          "base_uri": "https://localhost:8080/",
          "height": 538
        },
        "id": "0rDxzsIvU-UU",
        "outputId": "d603fd44-c0c2-49d2-db9e-e6d9ff83a18c"
      },
      "execution_count": 112,
      "outputs": [
        {
          "output_type": "execute_result",
          "data": {
            "text/plain": [
              "              Medicine Name  \\\n",
              "0   Avastin 400mg Injection   \n",
              "1  Augmentin 625 Duo Tablet   \n",
              "2       Azithral 500 Tablet   \n",
              "3          Ascoril LS Syrup   \n",
              "4         Aciloc 150 Tablet   \n",
              "\n",
              "                                         Composition  \\\n",
              "0                                Bevacizumab (400mg)   \n",
              "1    Amoxycillin  (500mg) +  Clavulanic Acid (125mg)   \n",
              "2                               Azithromycin (500mg)   \n",
              "3  Ambroxol (30mg/5ml) + Levosalbutamol (1mg/5ml)...   \n",
              "4                                 Ranitidine (150mg)   \n",
              "\n",
              "                                                Uses  \\\n",
              "0   Cancer of colon and rectum Non-small cell lun...   \n",
              "1                  Treatment of Bacterial infections   \n",
              "2                  Treatment of Bacterial infections   \n",
              "3                      Treatment of Cough with mucus   \n",
              "4  Treatment of Gastroesophageal reflux disease (...   \n",
              "\n",
              "                                        Side_effects  \\\n",
              "0  Rectal bleeding Taste change Headache Noseblee...   \n",
              "1  Vomiting Nausea Diarrhea Mucocutaneous candidi...   \n",
              "2                     Nausea Abdominal pain Diarrhea   \n",
              "3  Nausea Vomiting Diarrhea Upset stomach Stomach...   \n",
              "4     Headache Diarrhea Gastrointestinal disturbance   \n",
              "\n",
              "                                           Image URL  \\\n",
              "0  https://onemg.gumlet.io/l_watermark_346,w_480,...   \n",
              "1  https://onemg.gumlet.io/l_watermark_346,w_480,...   \n",
              "2  https://onemg.gumlet.io/l_watermark_346,w_480,...   \n",
              "3  https://onemg.gumlet.io/l_watermark_346,w_480,...   \n",
              "4  https://onemg.gumlet.io/l_watermark_346,w_480,...   \n",
              "\n",
              "                           Manufacturer  Excellent Review %  Average Review %  \\\n",
              "0          Roche Products India Pvt Ltd           -0.654767                56   \n",
              "1  Glaxo SmithKline Pharmaceuticals Ltd            0.336342                35   \n",
              "2           Alembic Pharmaceuticals Ltd            0.019187                40   \n",
              "3          Glenmark Pharmaceuticals Ltd           -0.575478                41   \n",
              "4            Cadila Pharmaceuticals Ltd           -0.179035                37   \n",
              "\n",
              "   Poor Review %  \n",
              "0      -0.155376  \n",
              "1      -0.322105  \n",
              "2      -0.197058  \n",
              "3       0.386495  \n",
              "4       0.136401  "
            ],
            "text/html": [
              "\n",
              "  <div id=\"df-eb951382-15b8-4976-93a8-78c6d1f62f58\" class=\"colab-df-container\">\n",
              "    <div>\n",
              "<style scoped>\n",
              "    .dataframe tbody tr th:only-of-type {\n",
              "        vertical-align: middle;\n",
              "    }\n",
              "\n",
              "    .dataframe tbody tr th {\n",
              "        vertical-align: top;\n",
              "    }\n",
              "\n",
              "    .dataframe thead th {\n",
              "        text-align: right;\n",
              "    }\n",
              "</style>\n",
              "<table border=\"1\" class=\"dataframe\">\n",
              "  <thead>\n",
              "    <tr style=\"text-align: right;\">\n",
              "      <th></th>\n",
              "      <th>Medicine Name</th>\n",
              "      <th>Composition</th>\n",
              "      <th>Uses</th>\n",
              "      <th>Side_effects</th>\n",
              "      <th>Image URL</th>\n",
              "      <th>Manufacturer</th>\n",
              "      <th>Excellent Review %</th>\n",
              "      <th>Average Review %</th>\n",
              "      <th>Poor Review %</th>\n",
              "    </tr>\n",
              "  </thead>\n",
              "  <tbody>\n",
              "    <tr>\n",
              "      <th>0</th>\n",
              "      <td>Avastin 400mg Injection</td>\n",
              "      <td>Bevacizumab (400mg)</td>\n",
              "      <td>Cancer of colon and rectum Non-small cell lun...</td>\n",
              "      <td>Rectal bleeding Taste change Headache Noseblee...</td>\n",
              "      <td>https://onemg.gumlet.io/l_watermark_346,w_480,...</td>\n",
              "      <td>Roche Products India Pvt Ltd</td>\n",
              "      <td>-0.654767</td>\n",
              "      <td>56</td>\n",
              "      <td>-0.155376</td>\n",
              "    </tr>\n",
              "    <tr>\n",
              "      <th>1</th>\n",
              "      <td>Augmentin 625 Duo Tablet</td>\n",
              "      <td>Amoxycillin  (500mg) +  Clavulanic Acid (125mg)</td>\n",
              "      <td>Treatment of Bacterial infections</td>\n",
              "      <td>Vomiting Nausea Diarrhea Mucocutaneous candidi...</td>\n",
              "      <td>https://onemg.gumlet.io/l_watermark_346,w_480,...</td>\n",
              "      <td>Glaxo SmithKline Pharmaceuticals Ltd</td>\n",
              "      <td>0.336342</td>\n",
              "      <td>35</td>\n",
              "      <td>-0.322105</td>\n",
              "    </tr>\n",
              "    <tr>\n",
              "      <th>2</th>\n",
              "      <td>Azithral 500 Tablet</td>\n",
              "      <td>Azithromycin (500mg)</td>\n",
              "      <td>Treatment of Bacterial infections</td>\n",
              "      <td>Nausea Abdominal pain Diarrhea</td>\n",
              "      <td>https://onemg.gumlet.io/l_watermark_346,w_480,...</td>\n",
              "      <td>Alembic Pharmaceuticals Ltd</td>\n",
              "      <td>0.019187</td>\n",
              "      <td>40</td>\n",
              "      <td>-0.197058</td>\n",
              "    </tr>\n",
              "    <tr>\n",
              "      <th>3</th>\n",
              "      <td>Ascoril LS Syrup</td>\n",
              "      <td>Ambroxol (30mg/5ml) + Levosalbutamol (1mg/5ml)...</td>\n",
              "      <td>Treatment of Cough with mucus</td>\n",
              "      <td>Nausea Vomiting Diarrhea Upset stomach Stomach...</td>\n",
              "      <td>https://onemg.gumlet.io/l_watermark_346,w_480,...</td>\n",
              "      <td>Glenmark Pharmaceuticals Ltd</td>\n",
              "      <td>-0.575478</td>\n",
              "      <td>41</td>\n",
              "      <td>0.386495</td>\n",
              "    </tr>\n",
              "    <tr>\n",
              "      <th>4</th>\n",
              "      <td>Aciloc 150 Tablet</td>\n",
              "      <td>Ranitidine (150mg)</td>\n",
              "      <td>Treatment of Gastroesophageal reflux disease (...</td>\n",
              "      <td>Headache Diarrhea Gastrointestinal disturbance</td>\n",
              "      <td>https://onemg.gumlet.io/l_watermark_346,w_480,...</td>\n",
              "      <td>Cadila Pharmaceuticals Ltd</td>\n",
              "      <td>-0.179035</td>\n",
              "      <td>37</td>\n",
              "      <td>0.136401</td>\n",
              "    </tr>\n",
              "  </tbody>\n",
              "</table>\n",
              "</div>\n",
              "    <div class=\"colab-df-buttons\">\n",
              "\n",
              "  <div class=\"colab-df-container\">\n",
              "    <button class=\"colab-df-convert\" onclick=\"convertToInteractive('df-eb951382-15b8-4976-93a8-78c6d1f62f58')\"\n",
              "            title=\"Convert this dataframe to an interactive table.\"\n",
              "            style=\"display:none;\">\n",
              "\n",
              "  <svg xmlns=\"http://www.w3.org/2000/svg\" height=\"24px\" viewBox=\"0 -960 960 960\">\n",
              "    <path d=\"M120-120v-720h720v720H120Zm60-500h600v-160H180v160Zm220 220h160v-160H400v160Zm0 220h160v-160H400v160ZM180-400h160v-160H180v160Zm440 0h160v-160H620v160ZM180-180h160v-160H180v160Zm440 0h160v-160H620v160Z\"/>\n",
              "  </svg>\n",
              "    </button>\n",
              "\n",
              "  <style>\n",
              "    .colab-df-container {\n",
              "      display:flex;\n",
              "      gap: 12px;\n",
              "    }\n",
              "\n",
              "    .colab-df-convert {\n",
              "      background-color: #E8F0FE;\n",
              "      border: none;\n",
              "      border-radius: 50%;\n",
              "      cursor: pointer;\n",
              "      display: none;\n",
              "      fill: #1967D2;\n",
              "      height: 32px;\n",
              "      padding: 0 0 0 0;\n",
              "      width: 32px;\n",
              "    }\n",
              "\n",
              "    .colab-df-convert:hover {\n",
              "      background-color: #E2EBFA;\n",
              "      box-shadow: 0px 1px 2px rgba(60, 64, 67, 0.3), 0px 1px 3px 1px rgba(60, 64, 67, 0.15);\n",
              "      fill: #174EA6;\n",
              "    }\n",
              "\n",
              "    .colab-df-buttons div {\n",
              "      margin-bottom: 4px;\n",
              "    }\n",
              "\n",
              "    [theme=dark] .colab-df-convert {\n",
              "      background-color: #3B4455;\n",
              "      fill: #D2E3FC;\n",
              "    }\n",
              "\n",
              "    [theme=dark] .colab-df-convert:hover {\n",
              "      background-color: #434B5C;\n",
              "      box-shadow: 0px 1px 3px 1px rgba(0, 0, 0, 0.15);\n",
              "      filter: drop-shadow(0px 1px 2px rgba(0, 0, 0, 0.3));\n",
              "      fill: #FFFFFF;\n",
              "    }\n",
              "  </style>\n",
              "\n",
              "    <script>\n",
              "      const buttonEl =\n",
              "        document.querySelector('#df-eb951382-15b8-4976-93a8-78c6d1f62f58 button.colab-df-convert');\n",
              "      buttonEl.style.display =\n",
              "        google.colab.kernel.accessAllowed ? 'block' : 'none';\n",
              "\n",
              "      async function convertToInteractive(key) {\n",
              "        const element = document.querySelector('#df-eb951382-15b8-4976-93a8-78c6d1f62f58');\n",
              "        const dataTable =\n",
              "          await google.colab.kernel.invokeFunction('convertToInteractive',\n",
              "                                                    [key], {});\n",
              "        if (!dataTable) return;\n",
              "\n",
              "        const docLinkHtml = 'Like what you see? Visit the ' +\n",
              "          '<a target=\"_blank\" href=https://colab.research.google.com/notebooks/data_table.ipynb>data table notebook</a>'\n",
              "          + ' to learn more about interactive tables.';\n",
              "        element.innerHTML = '';\n",
              "        dataTable['output_type'] = 'display_data';\n",
              "        await google.colab.output.renderOutput(dataTable, element);\n",
              "        const docLink = document.createElement('div');\n",
              "        docLink.innerHTML = docLinkHtml;\n",
              "        element.appendChild(docLink);\n",
              "      }\n",
              "    </script>\n",
              "  </div>\n",
              "\n",
              "\n",
              "<div id=\"df-90c489d1-425b-426f-9bec-c3ee96185385\">\n",
              "  <button class=\"colab-df-quickchart\" onclick=\"quickchart('df-90c489d1-425b-426f-9bec-c3ee96185385')\"\n",
              "            title=\"Suggest charts\"\n",
              "            style=\"display:none;\">\n",
              "\n",
              "<svg xmlns=\"http://www.w3.org/2000/svg\" height=\"24px\"viewBox=\"0 0 24 24\"\n",
              "     width=\"24px\">\n",
              "    <g>\n",
              "        <path d=\"M19 3H5c-1.1 0-2 .9-2 2v14c0 1.1.9 2 2 2h14c1.1 0 2-.9 2-2V5c0-1.1-.9-2-2-2zM9 17H7v-7h2v7zm4 0h-2V7h2v10zm4 0h-2v-4h2v4z\"/>\n",
              "    </g>\n",
              "</svg>\n",
              "  </button>\n",
              "\n",
              "<style>\n",
              "  .colab-df-quickchart {\n",
              "      --bg-color: #E8F0FE;\n",
              "      --fill-color: #1967D2;\n",
              "      --hover-bg-color: #E2EBFA;\n",
              "      --hover-fill-color: #174EA6;\n",
              "      --disabled-fill-color: #AAA;\n",
              "      --disabled-bg-color: #DDD;\n",
              "  }\n",
              "\n",
              "  [theme=dark] .colab-df-quickchart {\n",
              "      --bg-color: #3B4455;\n",
              "      --fill-color: #D2E3FC;\n",
              "      --hover-bg-color: #434B5C;\n",
              "      --hover-fill-color: #FFFFFF;\n",
              "      --disabled-bg-color: #3B4455;\n",
              "      --disabled-fill-color: #666;\n",
              "  }\n",
              "\n",
              "  .colab-df-quickchart {\n",
              "    background-color: var(--bg-color);\n",
              "    border: none;\n",
              "    border-radius: 50%;\n",
              "    cursor: pointer;\n",
              "    display: none;\n",
              "    fill: var(--fill-color);\n",
              "    height: 32px;\n",
              "    padding: 0;\n",
              "    width: 32px;\n",
              "  }\n",
              "\n",
              "  .colab-df-quickchart:hover {\n",
              "    background-color: var(--hover-bg-color);\n",
              "    box-shadow: 0 1px 2px rgba(60, 64, 67, 0.3), 0 1px 3px 1px rgba(60, 64, 67, 0.15);\n",
              "    fill: var(--button-hover-fill-color);\n",
              "  }\n",
              "\n",
              "  .colab-df-quickchart-complete:disabled,\n",
              "  .colab-df-quickchart-complete:disabled:hover {\n",
              "    background-color: var(--disabled-bg-color);\n",
              "    fill: var(--disabled-fill-color);\n",
              "    box-shadow: none;\n",
              "  }\n",
              "\n",
              "  .colab-df-spinner {\n",
              "    border: 2px solid var(--fill-color);\n",
              "    border-color: transparent;\n",
              "    border-bottom-color: var(--fill-color);\n",
              "    animation:\n",
              "      spin 1s steps(1) infinite;\n",
              "  }\n",
              "\n",
              "  @keyframes spin {\n",
              "    0% {\n",
              "      border-color: transparent;\n",
              "      border-bottom-color: var(--fill-color);\n",
              "      border-left-color: var(--fill-color);\n",
              "    }\n",
              "    20% {\n",
              "      border-color: transparent;\n",
              "      border-left-color: var(--fill-color);\n",
              "      border-top-color: var(--fill-color);\n",
              "    }\n",
              "    30% {\n",
              "      border-color: transparent;\n",
              "      border-left-color: var(--fill-color);\n",
              "      border-top-color: var(--fill-color);\n",
              "      border-right-color: var(--fill-color);\n",
              "    }\n",
              "    40% {\n",
              "      border-color: transparent;\n",
              "      border-right-color: var(--fill-color);\n",
              "      border-top-color: var(--fill-color);\n",
              "    }\n",
              "    60% {\n",
              "      border-color: transparent;\n",
              "      border-right-color: var(--fill-color);\n",
              "    }\n",
              "    80% {\n",
              "      border-color: transparent;\n",
              "      border-right-color: var(--fill-color);\n",
              "      border-bottom-color: var(--fill-color);\n",
              "    }\n",
              "    90% {\n",
              "      border-color: transparent;\n",
              "      border-bottom-color: var(--fill-color);\n",
              "    }\n",
              "  }\n",
              "</style>\n",
              "\n",
              "  <script>\n",
              "    async function quickchart(key) {\n",
              "      const quickchartButtonEl =\n",
              "        document.querySelector('#' + key + ' button');\n",
              "      quickchartButtonEl.disabled = true;  // To prevent multiple clicks.\n",
              "      quickchartButtonEl.classList.add('colab-df-spinner');\n",
              "      try {\n",
              "        const charts = await google.colab.kernel.invokeFunction(\n",
              "            'suggestCharts', [key], {});\n",
              "      } catch (error) {\n",
              "        console.error('Error during call to suggestCharts:', error);\n",
              "      }\n",
              "      quickchartButtonEl.classList.remove('colab-df-spinner');\n",
              "      quickchartButtonEl.classList.add('colab-df-quickchart-complete');\n",
              "    }\n",
              "    (() => {\n",
              "      let quickchartButtonEl =\n",
              "        document.querySelector('#df-90c489d1-425b-426f-9bec-c3ee96185385 button');\n",
              "      quickchartButtonEl.style.display =\n",
              "        google.colab.kernel.accessAllowed ? 'block' : 'none';\n",
              "    })();\n",
              "  </script>\n",
              "</div>\n",
              "\n",
              "    </div>\n",
              "  </div>\n"
            ],
            "application/vnd.google.colaboratory.intrinsic+json": {
              "type": "dataframe",
              "variable_name": "drug_df",
              "summary": "{\n  \"name\": \"drug_df\",\n  \"rows\": 11825,\n  \"fields\": [\n    {\n      \"column\": \"Medicine Name\",\n      \"properties\": {\n        \"dtype\": \"string\",\n        \"num_unique_values\": 11498,\n        \"samples\": [\n          \"Mixbiotic-AC Ear Drop\",\n          \"Druffnil Shampoo\",\n          \"Fungicip 150mg Tablet\"\n        ],\n        \"semantic_type\": \"\",\n        \"description\": \"\"\n      }\n    },\n    {\n      \"column\": \"Composition\",\n      \"properties\": {\n        \"dtype\": \"category\",\n        \"num_unique_values\": 3358,\n        \"samples\": [\n          \"Blonanserin (4mg)\",\n          \"Indomethacin (50mg)\",\n          \"Metformin  (1000mg) +  Vildagliptin (50mg)\"\n        ],\n        \"semantic_type\": \"\",\n        \"description\": \"\"\n      }\n    },\n    {\n      \"column\": \"Uses\",\n      \"properties\": {\n        \"dtype\": \"category\",\n        \"num_unique_values\": 712,\n        \"samples\": [\n          \" Hormone replacement therapy Post menopausal osteoporosis\",\n          \"Treatment of Rheumatoid arthritisTreatment of PsoriasisTreatment of CancerTreatment of Crohn\\u2019s disease\",\n          \"Treatment of Dandruff\"\n        ],\n        \"semantic_type\": \"\",\n        \"description\": \"\"\n      }\n    },\n    {\n      \"column\": \"Side_effects\",\n      \"properties\": {\n        \"dtype\": \"category\",\n        \"num_unique_values\": 1512,\n        \"samples\": [\n          \"Headache Loss of appetite Dizziness Weakness Joint pain Muscle pain\",\n          \"Bone pain Weakness Headache Rash Nausea Increased lactate dehydrogenase level in blood Vomiting Increased uric acid level in blood Oropharyngeal pain Hair loss Fatigue Diarrhea Constipation Decreased appetite Cough Breathing problems Injection site reactions pain swelling redness\",\n          \"Nausea Headache Bloating\"\n        ],\n        \"semantic_type\": \"\",\n        \"description\": \"\"\n      }\n    },\n    {\n      \"column\": \"Image URL\",\n      \"properties\": {\n        \"dtype\": \"string\",\n        \"num_unique_values\": 11740,\n        \"samples\": [\n          \"https://onemg.gumlet.io/l_watermark_346,w_480,h_480/a_ignore,w_480,h_480,c_fit,q_auto,f_auto/cropped/rc4zmux1wvjslaaxh4vy.jpg\",\n          \"https://onemg.gumlet.io/l_watermark_346,w_480,h_480/a_ignore,w_480,h_480,c_fit,q_auto,f_auto/lae9sgpkmgw0frgzsr8g.jpg\",\n          \"https://onemg.gumlet.io/l_watermark_346,w_480,h_480/a_ignore,w_480,h_480,c_fit,q_auto,f_auto/6bd6125eab5e4e8b847f467b90f06098.jpg\"\n        ],\n        \"semantic_type\": \"\",\n        \"description\": \"\"\n      }\n    },\n    {\n      \"column\": \"Manufacturer\",\n      \"properties\": {\n        \"dtype\": \"category\",\n        \"num_unique_values\": 759,\n        \"samples\": [\n          \"Jupiter Pharmaceutical Ltd\",\n          \"Rivan Pharma\",\n          \"Inga Laboratories Pvt Ltd\"\n        ],\n        \"semantic_type\": \"\",\n        \"description\": \"\"\n      }\n    },\n    {\n      \"column\": \"Excellent Review %\",\n      \"properties\": {\n        \"dtype\": \"number\",\n        \"std\": 1.0000422859801021,\n        \"min\": -1.5269427265682112,\n        \"max\": 2.4374921077653955,\n        \"num_unique_values\": 85,\n        \"samples\": [\n          -1.1701435914781866,\n          -0.6547670630148177,\n          1.4463833991819939\n        ],\n        \"semantic_type\": \"\",\n        \"description\": \"\"\n      }\n    },\n    {\n      \"column\": \"Average Review %\",\n      \"properties\": {\n        \"dtype\": \"number\",\n        \"std\": 18,\n        \"min\": 0,\n        \"max\": 88,\n        \"num_unique_values\": 79,\n        \"samples\": [\n          57,\n          56,\n          24\n        ],\n        \"semantic_type\": \"\",\n        \"description\": \"\"\n      }\n    },\n    {\n      \"column\": \"Poor Review %\",\n      \"properties\": {\n        \"dtype\": \"number\",\n        \"std\": 1.000042285980102,\n        \"min\": -1.0723872693326197,\n        \"max\": 3.095847665488922,\n        \"num_unique_values\": 81,\n        \"samples\": [\n          -0.5721990771540348,\n          -0.15537558367188062,\n          -0.5305167278058194\n        ],\n        \"semantic_type\": \"\",\n        \"description\": \"\"\n      }\n    }\n  ]\n}"
            }
          },
          "metadata": {},
          "execution_count": 112
        }
      ]
    },
    {
      "cell_type": "code",
      "source": [
        "plot_distribution()"
      ],
      "metadata": {
        "colab": {
          "base_uri": "https://localhost:8080/",
          "height": 333
        },
        "id": "u7UX9kcIWXwQ",
        "outputId": "1d5f5a50-c771-41c2-87d7-2df6e182eaee"
      },
      "execution_count": 113,
      "outputs": [
        {
          "output_type": "display_data",
          "data": {
            "text/plain": [
              "<Figure size 1200x300 with 3 Axes>"
            ],
            "image/png": "[encoded data removed]"
          },
          "metadata": {}
        }
      ]
    },
    {
      "cell_type": "code",
      "execution_count": 114,
      "metadata": {
        "colab": {
          "base_uri": "https://localhost:8080/"
        },
        "id": "FOdWyuVPckQs",
        "outputId": "8e4c63ff-5b30-44c9-e29a-b0c2451515f2"
      },
      "outputs": [
        {
          "output_type": "stream",
          "name": "stdout",
          "text": [
            "Number of rows: 11825\n",
            "\n",
            "Number of columns: 9\n"
          ]
        }
      ],
      "source": [
        "print(f\"Number of rows: {drug_df.shape[0]}\\n\\nNumber of columns: {drug_df.shape[1]}\")"
      ]
    },
    {
      "cell_type": "markdown",
      "metadata": {
        "id": "OtyOLT_pdyJ0"
      },
      "source": [
        "**Columns containing object data**"
      ]
    },
    {
      "cell_type": "code",
      "execution_count": 115,
      "metadata": {
        "colab": {
          "base_uri": "https://localhost:8080/"
        },
        "id": "zYPZDj8beTaW",
        "outputId": "1053ce32-1ef7-41ba-c3b9-375a4d581eba"
      },
      "outputs": [
        {
          "output_type": "execute_result",
          "data": {
            "text/plain": [
              "['Medicine Name',\n",
              " 'Composition',\n",
              " 'Uses',\n",
              " 'Side_effects',\n",
              " 'Image URL',\n",
              " 'Manufacturer']"
            ]
          },
          "metadata": {},
          "execution_count": 115
        }
      ],
      "source": [
        "object_cols = [col for col in drug_df.columns if drug_df[col].dtype == \"object\"]\n",
        "object_cols"
      ]
    },
    {
      "cell_type": "code",
      "execution_count": 116,
      "metadata": {
        "colab": {
          "base_uri": "https://localhost:8080/"
        },
        "id": "0gVQPXuFemNM",
        "outputId": "003e20de-ef8d-456e-d2fc-92f746f038b5"
      },
      "outputs": [
        {
          "output_type": "execute_result",
          "data": {
            "text/plain": [
              "['Excellent Review %', 'Average Review %', 'Poor Review %']"
            ]
          },
          "metadata": {},
          "execution_count": 116
        }
      ],
      "source": [
        "numeric_cols = [cname for cname in drug_df.columns if drug_df[cname].dtype in [\"int64\", \"float64\"]]\n",
        "numeric_cols"
      ]
    },
    {
      "cell_type": "code",
      "execution_count": 117,
      "metadata": {
        "colab": {
          "base_uri": "https://localhost:8080/",
          "height": 310
        },
        "id": "WepZVqVx7e-C",
        "outputId": "939e7264-a979-4c43-cd5d-eb8637f1ca0d"
      },
      "outputs": [
        {
          "output_type": "execute_result",
          "data": {
            "text/plain": [
              "              Medicine Name  \\\n",
              "0   Avastin 400mg Injection   \n",
              "1  Augmentin 625 Duo Tablet   \n",
              "2       Azithral 500 Tablet   \n",
              "3          Ascoril LS Syrup   \n",
              "4         Aciloc 150 Tablet   \n",
              "\n",
              "                                                Uses  \\\n",
              "0   Cancer of colon and rectum Non-small cell lun...   \n",
              "1                  Treatment of Bacterial infections   \n",
              "2                  Treatment of Bacterial infections   \n",
              "3                      Treatment of Cough with mucus   \n",
              "4  Treatment of Gastroesophageal reflux disease (...   \n",
              "\n",
              "                                        Side_effects  \\\n",
              "0  Rectal bleeding Taste change Headache Noseblee...   \n",
              "1  Vomiting Nausea Diarrhea Mucocutaneous candidi...   \n",
              "2                     Nausea Abdominal pain Diarrhea   \n",
              "3  Nausea Vomiting Diarrhea Upset stomach Stomach...   \n",
              "4     Headache Diarrhea Gastrointestinal disturbance   \n",
              "\n",
              "                           Manufacturer  Excellent Review %  Average Review %  \\\n",
              "0          Roche Products India Pvt Ltd           -0.654767                56   \n",
              "1  Glaxo SmithKline Pharmaceuticals Ltd            0.336342                35   \n",
              "2           Alembic Pharmaceuticals Ltd            0.019187                40   \n",
              "3          Glenmark Pharmaceuticals Ltd           -0.575478                41   \n",
              "4            Cadila Pharmaceuticals Ltd           -0.179035                37   \n",
              "\n",
              "   Poor Review %  \n",
              "0      -0.155376  \n",
              "1      -0.322105  \n",
              "2      -0.197058  \n",
              "3       0.386495  \n",
              "4       0.136401  "
            ],
            "text/html": [
              "\n",
              "  <div id=\"df-c35be0b9-cc58-4bf1-b615-3ffc322edeaf\" class=\"colab-df-container\">\n",
              "    <div>\n",
              "<style scoped>\n",
              "    .dataframe tbody tr th:only-of-type {\n",
              "        vertical-align: middle;\n",
              "    }\n",
              "\n",
              "    .dataframe tbody tr th {\n",
              "        vertical-align: top;\n",
              "    }\n",
              "\n",
              "    .dataframe thead th {\n",
              "        text-align: right;\n",
              "    }\n",
              "</style>\n",
              "<table border=\"1\" class=\"dataframe\">\n",
              "  <thead>\n",
              "    <tr style=\"text-align: right;\">\n",
              "      <th></th>\n",
              "      <th>Medicine Name</th>\n",
              "      <th>Uses</th>\n",
              "      <th>Side_effects</th>\n",
              "      <th>Manufacturer</th>\n",
              "      <th>Excellent Review %</th>\n",
              "      <th>Average Review %</th>\n",
              "      <th>Poor Review %</th>\n",
              "    </tr>\n",
              "  </thead>\n",
              "  <tbody>\n",
              "    <tr>\n",
              "      <th>0</th>\n",
              "      <td>Avastin 400mg Injection</td>\n",
              "      <td>Cancer of colon and rectum Non-small cell lun...</td>\n",
              "      <td>Rectal bleeding Taste change Headache Noseblee...</td>\n",
              "      <td>Roche Products India Pvt Ltd</td>\n",
              "      <td>-0.654767</td>\n",
              "      <td>56</td>\n",
              "      <td>-0.155376</td>\n",
              "    </tr>\n",
              "    <tr>\n",
              "      <th>1</th>\n",
              "      <td>Augmentin 625 Duo Tablet</td>\n",
              "      <td>Treatment of Bacterial infections</td>\n",
              "      <td>Vomiting Nausea Diarrhea Mucocutaneous candidi...</td>\n",
              "      <td>Glaxo SmithKline Pharmaceuticals Ltd</td>\n",
              "      <td>0.336342</td>\n",
              "      <td>35</td>\n",
              "      <td>-0.322105</td>\n",
              "    </tr>\n",
              "    <tr>\n",
              "      <th>2</th>\n",
              "      <td>Azithral 500 Tablet</td>\n",
              "      <td>Treatment of Bacterial infections</td>\n",
              "      <td>Nausea Abdominal pain Diarrhea</td>\n",
              "      <td>Alembic Pharmaceuticals Ltd</td>\n",
              "      <td>0.019187</td>\n",
              "      <td>40</td>\n",
              "      <td>-0.197058</td>\n",
              "    </tr>\n",
              "    <tr>\n",
              "      <th>3</th>\n",
              "      <td>Ascoril LS Syrup</td>\n",
              "      <td>Treatment of Cough with mucus</td>\n",
              "      <td>Nausea Vomiting Diarrhea Upset stomach Stomach...</td>\n",
              "      <td>Glenmark Pharmaceuticals Ltd</td>\n",
              "      <td>-0.575478</td>\n",
              "      <td>41</td>\n",
              "      <td>0.386495</td>\n",
              "    </tr>\n",
              "    <tr>\n",
              "      <th>4</th>\n",
              "      <td>Aciloc 150 Tablet</td>\n",
              "      <td>Treatment of Gastroesophageal reflux disease (...</td>\n",
              "      <td>Headache Diarrhea Gastrointestinal disturbance</td>\n",
              "      <td>Cadila Pharmaceuticals Ltd</td>\n",
              "      <td>-0.179035</td>\n",
              "      <td>37</td>\n",
              "      <td>0.136401</td>\n",
              "    </tr>\n",
              "  </tbody>\n",
              "</table>\n",
              "</div>\n",
              "    <div class=\"colab-df-buttons\">\n",
              "\n",
              "  <div class=\"colab-df-container\">\n",
              "    <button class=\"colab-df-convert\" onclick=\"convertToInteractive('df-c35be0b9-cc58-4bf1-b615-3ffc322edeaf')\"\n",
              "            title=\"Convert this dataframe to an interactive table.\"\n",
              "            style=\"display:none;\">\n",
              "\n",
              "  <svg xmlns=\"http://www.w3.org/2000/svg\" height=\"24px\" viewBox=\"0 -960 960 960\">\n",
              "    <path d=\"M120-120v-720h720v720H120Zm60-500h600v-160H180v160Zm220 220h160v-160H400v160Zm0 220h160v-160H400v160ZM180-400h160v-160H180v160Zm440 0h160v-160H620v160ZM180-180h160v-160H180v160Zm440 0h160v-160H620v160Z\"/>\n",
              "  </svg>\n",
              "    </button>\n",
              "\n",
              "  <style>\n",
              "    .colab-df-container {\n",
              "      display:flex;\n",
              "      gap: 12px;\n",
              "    }\n",
              "\n",
              "    .colab-df-convert {\n",
              "      background-color: #E8F0FE;\n",
              "      border: none;\n",
              "      border-radius: 50%;\n",
              "      cursor: pointer;\n",
              "      display: none;\n",
              "      fill: #1967D2;\n",
              "      height: 32px;\n",
              "      padding: 0 0 0 0;\n",
              "      width: 32px;\n",
              "    }\n",
              "\n",
              "    .colab-df-convert:hover {\n",
              "      background-color: #E2EBFA;\n",
              "      box-shadow: 0px 1px 2px rgba(60, 64, 67, 0.3), 0px 1px 3px 1px rgba(60, 64, 67, 0.15);\n",
              "      fill: #174EA6;\n",
              "    }\n",
              "\n",
              "    .colab-df-buttons div {\n",
              "      margin-bottom: 4px;\n",
              "    }\n",
              "\n",
              "    [theme=dark] .colab-df-convert {\n",
              "      background-color: #3B4455;\n",
              "      fill: #D2E3FC;\n",
              "    }\n",
              "\n",
              "    [theme=dark] .colab-df-convert:hover {\n",
              "      background-color: #434B5C;\n",
              "      box-shadow: 0px 1px 3px 1px rgba(0, 0, 0, 0.15);\n",
              "      filter: drop-shadow(0px 1px 2px rgba(0, 0, 0, 0.3));\n",
              "      fill: #FFFFFF;\n",
              "    }\n",
              "  </style>\n",
              "\n",
              "    <script>\n",
              "      const buttonEl =\n",
              "        document.querySelector('#df-c35be0b9-cc58-4bf1-b615-3ffc322edeaf button.colab-df-convert');\n",
              "      buttonEl.style.display =\n",
              "        google.colab.kernel.accessAllowed ? 'block' : 'none';\n",
              "\n",
              "      async function convertToInteractive(key) {\n",
              "        const element = document.querySelector('#df-c35be0b9-cc58-4bf1-b615-3ffc322edeaf');\n",
              "        const dataTable =\n",
              "          await google.colab.kernel.invokeFunction('convertToInteractive',\n",
              "                                                    [key], {});\n",
              "        if (!dataTable) return;\n",
              "\n",
              "        const docLinkHtml = 'Like what you see? Visit the ' +\n",
              "          '<a target=\"_blank\" href=https://colab.research.google.com/notebooks/data_table.ipynb>data table notebook</a>'\n",
              "          + ' to learn more about interactive tables.';\n",
              "        element.innerHTML = '';\n",
              "        dataTable['output_type'] = 'display_data';\n",
              "        await google.colab.output.renderOutput(dataTable, element);\n",
              "        const docLink = document.createElement('div');\n",
              "        docLink.innerHTML = docLinkHtml;\n",
              "        element.appendChild(docLink);\n",
              "      }\n",
              "    </script>\n",
              "  </div>\n",
              "\n",
              "\n",
              "<div id=\"df-16524a66-411d-4435-bd9f-e519d21011f6\">\n",
              "  <button class=\"colab-df-quickchart\" onclick=\"quickchart('df-16524a66-411d-4435-bd9f-e519d21011f6')\"\n",
              "            title=\"Suggest charts\"\n",
              "            style=\"display:none;\">\n",
              "\n",
              "<svg xmlns=\"http://www.w3.org/2000/svg\" height=\"24px\"viewBox=\"0 0 24 24\"\n",
              "     width=\"24px\">\n",
              "    <g>\n",
              "        <path d=\"M19 3H5c-1.1 0-2 .9-2 2v14c0 1.1.9 2 2 2h14c1.1 0 2-.9 2-2V5c0-1.1-.9-2-2-2zM9 17H7v-7h2v7zm4 0h-2V7h2v10zm4 0h-2v-4h2v4z\"/>\n",
              "    </g>\n",
              "</svg>\n",
              "  </button>\n",
              "\n",
              "<style>\n",
              "  .colab-df-quickchart {\n",
              "      --bg-color: #E8F0FE;\n",
              "      --fill-color: #1967D2;\n",
              "      --hover-bg-color: #E2EBFA;\n",
              "      --hover-fill-color: #174EA6;\n",
              "      --disabled-fill-color: #AAA;\n",
              "      --disabled-bg-color: #DDD;\n",
              "  }\n",
              "\n",
              "  [theme=dark] .colab-df-quickchart {\n",
              "      --bg-color: #3B4455;\n",
              "      --fill-color: #D2E3FC;\n",
              "      --hover-bg-color: #434B5C;\n",
              "      --hover-fill-color: #FFFFFF;\n",
              "      --disabled-bg-color: #3B4455;\n",
              "      --disabled-fill-color: #666;\n",
              "  }\n",
              "\n",
              "  .colab-df-quickchart {\n",
              "    background-color: var(--bg-color);\n",
              "    border: none;\n",
              "    border-radius: 50%;\n",
              "    cursor: pointer;\n",
              "    display: none;\n",
              "    fill: var(--fill-color);\n",
              "    height: 32px;\n",
              "    padding: 0;\n",
              "    width: 32px;\n",
              "  }\n",
              "\n",
              "  .colab-df-quickchart:hover {\n",
              "    background-color: var(--hover-bg-color);\n",
              "    box-shadow: 0 1px 2px rgba(60, 64, 67, 0.3), 0 1px 3px 1px rgba(60, 64, 67, 0.15);\n",
              "    fill: var(--button-hover-fill-color);\n",
              "  }\n",
              "\n",
              "  .colab-df-quickchart-complete:disabled,\n",
              "  .colab-df-quickchart-complete:disabled:hover {\n",
              "    background-color: var(--disabled-bg-color);\n",
              "    fill: var(--disabled-fill-color);\n",
              "    box-shadow: none;\n",
              "  }\n",
              "\n",
              "  .colab-df-spinner {\n",
              "    border: 2px solid var(--fill-color);\n",
              "    border-color: transparent;\n",
              "    border-bottom-color: var(--fill-color);\n",
              "    animation:\n",
              "      spin 1s steps(1) infinite;\n",
              "  }\n",
              "\n",
              "  @keyframes spin {\n",
              "    0% {\n",
              "      border-color: transparent;\n",
              "      border-bottom-color: var(--fill-color);\n",
              "      border-left-color: var(--fill-color);\n",
              "    }\n",
              "    20% {\n",
              "      border-color: transparent;\n",
              "      border-left-color: var(--fill-color);\n",
              "      border-top-color: var(--fill-color);\n",
              "    }\n",
              "    30% {\n",
              "      border-color: transparent;\n",
              "      border-left-color: var(--fill-color);\n",
              "      border-top-color: var(--fill-color);\n",
              "      border-right-color: var(--fill-color);\n",
              "    }\n",
              "    40% {\n",
              "      border-color: transparent;\n",
              "      border-right-color: var(--fill-color);\n",
              "      border-top-color: var(--fill-color);\n",
              "    }\n",
              "    60% {\n",
              "      border-color: transparent;\n",
              "      border-right-color: var(--fill-color);\n",
              "    }\n",
              "    80% {\n",
              "      border-color: transparent;\n",
              "      border-right-color: var(--fill-color);\n",
              "      border-bottom-color: var(--fill-color);\n",
              "    }\n",
              "    90% {\n",
              "      border-color: transparent;\n",
              "      border-bottom-color: var(--fill-color);\n",
              "    }\n",
              "  }\n",
              "</style>\n",
              "\n",
              "  <script>\n",
              "    async function quickchart(key) {\n",
              "      const quickchartButtonEl =\n",
              "        document.querySelector('#' + key + ' button');\n",
              "      quickchartButtonEl.disabled = true;  // To prevent multiple clicks.\n",
              "      quickchartButtonEl.classList.add('colab-df-spinner');\n",
              "      try {\n",
              "        const charts = await google.colab.kernel.invokeFunction(\n",
              "            'suggestCharts', [key], {});\n",
              "      } catch (error) {\n",
              "        console.error('Error during call to suggestCharts:', error);\n",
              "      }\n",
              "      quickchartButtonEl.classList.remove('colab-df-spinner');\n",
              "      quickchartButtonEl.classList.add('colab-df-quickchart-complete');\n",
              "    }\n",
              "    (() => {\n",
              "      let quickchartButtonEl =\n",
              "        document.querySelector('#df-16524a66-411d-4435-bd9f-e519d21011f6 button');\n",
              "      quickchartButtonEl.style.display =\n",
              "        google.colab.kernel.accessAllowed ? 'block' : 'none';\n",
              "    })();\n",
              "  </script>\n",
              "</div>\n",
              "\n",
              "    </div>\n",
              "  </div>\n"
            ],
            "application/vnd.google.colaboratory.intrinsic+json": {
              "type": "dataframe",
              "variable_name": "drug_df",
              "summary": "{\n  \"name\": \"drug_df\",\n  \"rows\": 11825,\n  \"fields\": [\n    {\n      \"column\": \"Medicine Name\",\n      \"properties\": {\n        \"dtype\": \"string\",\n        \"num_unique_values\": 11498,\n        \"samples\": [\n          \"Mixbiotic-AC Ear Drop\",\n          \"Druffnil Shampoo\",\n          \"Fungicip 150mg Tablet\"\n        ],\n        \"semantic_type\": \"\",\n        \"description\": \"\"\n      }\n    },\n    {\n      \"column\": \"Uses\",\n      \"properties\": {\n        \"dtype\": \"category\",\n        \"num_unique_values\": 712,\n        \"samples\": [\n          \" Hormone replacement therapy Post menopausal osteoporosis\",\n          \"Treatment of Rheumatoid arthritisTreatment of PsoriasisTreatment of CancerTreatment of Crohn\\u2019s disease\",\n          \"Treatment of Dandruff\"\n        ],\n        \"semantic_type\": \"\",\n        \"description\": \"\"\n      }\n    },\n    {\n      \"column\": \"Side_effects\",\n      \"properties\": {\n        \"dtype\": \"category\",\n        \"num_unique_values\": 1512,\n        \"samples\": [\n          \"Headache Loss of appetite Dizziness Weakness Joint pain Muscle pain\",\n          \"Bone pain Weakness Headache Rash Nausea Increased lactate dehydrogenase level in blood Vomiting Increased uric acid level in blood Oropharyngeal pain Hair loss Fatigue Diarrhea Constipation Decreased appetite Cough Breathing problems Injection site reactions pain swelling redness\",\n          \"Nausea Headache Bloating\"\n        ],\n        \"semantic_type\": \"\",\n        \"description\": \"\"\n      }\n    },\n    {\n      \"column\": \"Manufacturer\",\n      \"properties\": {\n        \"dtype\": \"category\",\n        \"num_unique_values\": 759,\n        \"samples\": [\n          \"Jupiter Pharmaceutical Ltd\",\n          \"Rivan Pharma\",\n          \"Inga Laboratories Pvt Ltd\"\n        ],\n        \"semantic_type\": \"\",\n        \"description\": \"\"\n      }\n    },\n    {\n      \"column\": \"Excellent Review %\",\n      \"properties\": {\n        \"dtype\": \"number\",\n        \"std\": 1.0000422859801021,\n        \"min\": -1.5269427265682112,\n        \"max\": 2.4374921077653955,\n        \"num_unique_values\": 85,\n        \"samples\": [\n          -1.1701435914781866,\n          -0.6547670630148177,\n          1.4463833991819939\n        ],\n        \"semantic_type\": \"\",\n        \"description\": \"\"\n      }\n    },\n    {\n      \"column\": \"Average Review %\",\n      \"properties\": {\n        \"dtype\": \"number\",\n        \"std\": 18,\n        \"min\": 0,\n        \"max\": 88,\n        \"num_unique_values\": 79,\n        \"samples\": [\n          57,\n          56,\n          24\n        ],\n        \"semantic_type\": \"\",\n        \"description\": \"\"\n      }\n    },\n    {\n      \"column\": \"Poor Review %\",\n      \"properties\": {\n        \"dtype\": \"number\",\n        \"std\": 1.000042285980102,\n        \"min\": -1.0723872693326197,\n        \"max\": 3.095847665488922,\n        \"num_unique_values\": 81,\n        \"samples\": [\n          -0.5721990771540348,\n          -0.15537558367188062,\n          -0.5305167278058194\n        ],\n        \"semantic_type\": \"\",\n        \"description\": \"\"\n      }\n    }\n  ]\n}"
            }
          },
          "metadata": {},
          "execution_count": 117
        }
      ],
      "source": [
        "drug_df.drop([\"Composition\", \"Image URL\"], inplace = True, axis = 1)\n",
        "drug_df.head()"
      ]
    },
    {
      "cell_type": "code",
      "execution_count": 118,
      "metadata": {
        "colab": {
          "base_uri": "https://localhost:8080/"
        },
        "id": "COn5TJSv8aKc",
        "outputId": "7ca0b3b8-9794-49d8-9234-12143f1f87cf"
      },
      "outputs": [
        {
          "output_type": "execute_result",
          "data": {
            "text/plain": [
              "Index(['Medicine Name', 'Uses', 'Side_effects', 'Manufacturer',\n",
              "       'Excellent Review %', 'Average Review %', 'Poor Review %'],\n",
              "      dtype='object')"
            ]
          },
          "metadata": {},
          "execution_count": 118
        }
      ],
      "source": [
        "drug_df.columns"
      ]
    },
    {
      "cell_type": "code",
      "execution_count": 119,
      "metadata": {
        "colab": {
          "base_uri": "https://localhost:8080/"
        },
        "id": "GKP9Bslp8ffp",
        "outputId": "5a993cb9-80a4-44df-9561-0c311554ae26"
      },
      "outputs": [
        {
          "output_type": "execute_result",
          "data": {
            "text/plain": [
              "7"
            ]
          },
          "metadata": {},
          "execution_count": 119
        }
      ],
      "source": [
        "len(drug_df.columns)"
      ]
    },
    {
      "cell_type": "code",
      "execution_count": 120,
      "metadata": {
        "id": "KpESrBou8kIx"
      },
      "outputs": [],
      "source": [
        "vectorizer = sklearn.feature_extraction.text.TfidfVectorizer(max_features = 1000)"
      ]
    },
    {
      "cell_type": "code",
      "execution_count": 121,
      "metadata": {
        "id": "oD2u4I6S-907"
      },
      "outputs": [],
      "source": [
        "def vectorizer_transform(original_data):\n",
        "  transformed_data = vectorizer.fit_transform(original_data.fillna(\"\")).toarray()\n",
        "  return transformed_data"
      ]
    },
    {
      "cell_type": "code",
      "execution_count": 122,
      "metadata": {
        "id": "H0EAj9AO--1F"
      },
      "outputs": [],
      "source": [
        "medicine_name_tfidf = vectorizer_transform(drug_df[\"Medicine Name\"])\n",
        "uses_of_drug_tfidf = vectorizer_transform(drug_df[\"Uses\"])\n",
        "side_effects_tfidf = vectorizer_transform(drug_df[\"Side_effects\"])\n",
        "manufacturer_tfidf = vectorizer_transform(drug_df[\"Manufacturer\"])"
      ]
    },
    {
      "cell_type": "code",
      "execution_count": 123,
      "metadata": {
        "colab": {
          "base_uri": "https://localhost:8080/"
        },
        "id": "n84Tvj3X_Ipi",
        "outputId": "ca0cac95-74fb-403b-9b79-a35807e42984"
      },
      "outputs": [
        {
          "output_type": "execute_result",
          "data": {
            "text/plain": [
              "array([[0., 0., 0., ..., 0., 0., 0.],\n",
              "       [0., 0., 0., ..., 0., 0., 0.],\n",
              "       [0., 0., 0., ..., 0., 0., 0.],\n",
              "       ...,\n",
              "       [0., 0., 0., ..., 0., 0., 0.],\n",
              "       [0., 0., 0., ..., 0., 0., 0.],\n",
              "       [0., 0., 0., ..., 0., 0., 0.]])"
            ]
          },
          "metadata": {},
          "execution_count": 123
        }
      ],
      "source": [
        "uses_of_drug_tfidf"
      ]
    },
    {
      "cell_type": "code",
      "execution_count": 124,
      "metadata": {
        "colab": {
          "base_uri": "https://localhost:8080/"
        },
        "id": "1GPTmw3BBp70",
        "outputId": "8a2bf5be-5656-4a1e-8b1a-537e466a9acd"
      },
      "outputs": [
        {
          "output_type": "stream",
          "name": "stdout",
          "text": [
            "Dimensions of 'Medicine Name': (11825, 1000)\n",
            "Dimensions of 'Uses of drug': (11825, 728)\n",
            "Dimensions of 'Side effects': (11825, 782)\n",
            "Dimensions of 'Manufacturer': (11825, 889)\n"
          ]
        }
      ],
      "source": [
        "print(f\"Dimensions of 'Medicine Name': {medicine_name_tfidf.shape}\")\n",
        "print(f\"Dimensions of 'Uses of drug': {uses_of_drug_tfidf.shape}\")\n",
        "print(f\"Dimensions of 'Side effects': {side_effects_tfidf.shape}\")\n",
        "print(f\"Dimensions of 'Manufacturer': {manufacturer_tfidf.shape}\")"
      ]
    },
    {
      "cell_type": "code",
      "execution_count": 125,
      "metadata": {
        "id": "ngihY-KbB1_H"
      },
      "outputs": [],
      "source": [
        "features = np.hstack((medicine_name_tfidf, uses_of_drug_tfidf, side_effects_tfidf,\n",
        "                      manufacturer_tfidf,))"
      ]
    },
    {
      "cell_type": "code",
      "execution_count": 126,
      "metadata": {
        "colab": {
          "base_uri": "https://localhost:8080/"
        },
        "id": "mVVI6uRCB51-",
        "outputId": "82ea14ac-068b-4a43-ad49-16c3eb5bee48"
      },
      "outputs": [
        {
          "output_type": "execute_result",
          "data": {
            "text/plain": [
              "array([[0., 0., 0., ..., 0., 0., 0.],\n",
              "       [0., 0., 0., ..., 0., 0., 0.],\n",
              "       [0., 0., 0., ..., 0., 0., 0.],\n",
              "       ...,\n",
              "       [0., 0., 0., ..., 0., 0., 0.],\n",
              "       [0., 0., 0., ..., 0., 0., 0.],\n",
              "       [0., 0., 0., ..., 0., 0., 0.]])"
            ]
          },
          "metadata": {},
          "execution_count": 126
        }
      ],
      "source": [
        "features"
      ]
    },
    {
      "cell_type": "code",
      "execution_count": 127,
      "metadata": {
        "colab": {
          "base_uri": "https://localhost:8080/"
        },
        "id": "gclT-uFbHOX7",
        "outputId": "18e4d440-09bb-4f00-d527-1c1eb74d0cf2"
      },
      "outputs": [
        {
          "output_type": "execute_result",
          "data": {
            "text/plain": [
              "(11825, 3399)"
            ]
          },
          "metadata": {},
          "execution_count": 127
        }
      ],
      "source": [
        "features.shape"
      ]
    },
    {
      "cell_type": "code",
      "execution_count": 128,
      "metadata": {
        "colab": {
          "base_uri": "https://localhost:8080/",
          "height": 310
        },
        "id": "hObp4w89HQ2U",
        "outputId": "8c879093-3bf2-4eac-f148-e71e841bcf86"
      },
      "outputs": [
        {
          "output_type": "execute_result",
          "data": {
            "text/plain": [
              "              Medicine Name  \\\n",
              "0   Avastin 400mg Injection   \n",
              "1  Augmentin 625 Duo Tablet   \n",
              "2       Azithral 500 Tablet   \n",
              "3          Ascoril LS Syrup   \n",
              "4         Aciloc 150 Tablet   \n",
              "\n",
              "                                                Uses  \\\n",
              "0   Cancer of colon and rectum Non-small cell lun...   \n",
              "1                  Treatment of Bacterial infections   \n",
              "2                  Treatment of Bacterial infections   \n",
              "3                      Treatment of Cough with mucus   \n",
              "4  Treatment of Gastroesophageal reflux disease (...   \n",
              "\n",
              "                                        Side_effects  \\\n",
              "0  Rectal bleeding Taste change Headache Noseblee...   \n",
              "1  Vomiting Nausea Diarrhea Mucocutaneous candidi...   \n",
              "2                     Nausea Abdominal pain Diarrhea   \n",
              "3  Nausea Vomiting Diarrhea Upset stomach Stomach...   \n",
              "4     Headache Diarrhea Gastrointestinal disturbance   \n",
              "\n",
              "                           Manufacturer  Excellent Review %  Average Review %  \\\n",
              "0          Roche Products India Pvt Ltd           -0.654767                56   \n",
              "1  Glaxo SmithKline Pharmaceuticals Ltd            0.336342                35   \n",
              "2           Alembic Pharmaceuticals Ltd            0.019187                40   \n",
              "3          Glenmark Pharmaceuticals Ltd           -0.575478                41   \n",
              "4            Cadila Pharmaceuticals Ltd           -0.179035                37   \n",
              "\n",
              "   Poor Review %  \n",
              "0      -0.155376  \n",
              "1      -0.322105  \n",
              "2      -0.197058  \n",
              "3       0.386495  \n",
              "4       0.136401  "
            ],
            "text/html": [
              "\n",
              "  <div id=\"df-4dfd9476-4d23-4bef-8470-5e056373cf6e\" class=\"colab-df-container\">\n",
              "    <div>\n",
              "<style scoped>\n",
              "    .dataframe tbody tr th:only-of-type {\n",
              "        vertical-align: middle;\n",
              "    }\n",
              "\n",
              "    .dataframe tbody tr th {\n",
              "        vertical-align: top;\n",
              "    }\n",
              "\n",
              "    .dataframe thead th {\n",
              "        text-align: right;\n",
              "    }\n",
              "</style>\n",
              "<table border=\"1\" class=\"dataframe\">\n",
              "  <thead>\n",
              "    <tr style=\"text-align: right;\">\n",
              "      <th></th>\n",
              "      <th>Medicine Name</th>\n",
              "      <th>Uses</th>\n",
              "      <th>Side_effects</th>\n",
              "      <th>Manufacturer</th>\n",
              "      <th>Excellent Review %</th>\n",
              "      <th>Average Review %</th>\n",
              "      <th>Poor Review %</th>\n",
              "    </tr>\n",
              "  </thead>\n",
              "  <tbody>\n",
              "    <tr>\n",
              "      <th>0</th>\n",
              "      <td>Avastin 400mg Injection</td>\n",
              "      <td>Cancer of colon and rectum Non-small cell lun...</td>\n",
              "      <td>Rectal bleeding Taste change Headache Noseblee...</td>\n",
              "      <td>Roche Products India Pvt Ltd</td>\n",
              "      <td>-0.654767</td>\n",
              "      <td>56</td>\n",
              "      <td>-0.155376</td>\n",
              "    </tr>\n",
              "    <tr>\n",
              "      <th>1</th>\n",
              "      <td>Augmentin 625 Duo Tablet</td>\n",
              "      <td>Treatment of Bacterial infections</td>\n",
              "      <td>Vomiting Nausea Diarrhea Mucocutaneous candidi...</td>\n",
              "      <td>Glaxo SmithKline Pharmaceuticals Ltd</td>\n",
              "      <td>0.336342</td>\n",
              "      <td>35</td>\n",
              "      <td>-0.322105</td>\n",
              "    </tr>\n",
              "    <tr>\n",
              "      <th>2</th>\n",
              "      <td>Azithral 500 Tablet</td>\n",
              "      <td>Treatment of Bacterial infections</td>\n",
              "      <td>Nausea Abdominal pain Diarrhea</td>\n",
              "      <td>Alembic Pharmaceuticals Ltd</td>\n",
              "      <td>0.019187</td>\n",
              "      <td>40</td>\n",
              "      <td>-0.197058</td>\n",
              "    </tr>\n",
              "    <tr>\n",
              "      <th>3</th>\n",
              "      <td>Ascoril LS Syrup</td>\n",
              "      <td>Treatment of Cough with mucus</td>\n",
              "      <td>Nausea Vomiting Diarrhea Upset stomach Stomach...</td>\n",
              "      <td>Glenmark Pharmaceuticals Ltd</td>\n",
              "      <td>-0.575478</td>\n",
              "      <td>41</td>\n",
              "      <td>0.386495</td>\n",
              "    </tr>\n",
              "    <tr>\n",
              "      <th>4</th>\n",
              "      <td>Aciloc 150 Tablet</td>\n",
              "      <td>Treatment of Gastroesophageal reflux disease (...</td>\n",
              "      <td>Headache Diarrhea Gastrointestinal disturbance</td>\n",
              "      <td>Cadila Pharmaceuticals Ltd</td>\n",
              "      <td>-0.179035</td>\n",
              "      <td>37</td>\n",
              "      <td>0.136401</td>\n",
              "    </tr>\n",
              "  </tbody>\n",
              "</table>\n",
              "</div>\n",
              "    <div class=\"colab-df-buttons\">\n",
              "\n",
              "  <div class=\"colab-df-container\">\n",
              "    <button class=\"colab-df-convert\" onclick=\"convertToInteractive('df-4dfd9476-4d23-4bef-8470-5e056373cf6e')\"\n",
              "            title=\"Convert this dataframe to an interactive table.\"\n",
              "            style=\"display:none;\">\n",
              "\n",
              "  <svg xmlns=\"http://www.w3.org/2000/svg\" height=\"24px\" viewBox=\"0 -960 960 960\">\n",
              "    <path d=\"M120-120v-720h720v720H120Zm60-500h600v-160H180v160Zm220 220h160v-160H400v160Zm0 220h160v-160H400v160ZM180-400h160v-160H180v160Zm440 0h160v-160H620v160ZM180-180h160v-160H180v160Zm440 0h160v-160H620v160Z\"/>\n",
              "  </svg>\n",
              "    </button>\n",
              "\n",
              "  <style>\n",
              "    .colab-df-container {\n",
              "      display:flex;\n",
              "      gap: 12px;\n",
              "    }\n",
              "\n",
              "    .colab-df-convert {\n",
              "      background-color: #E8F0FE;\n",
              "      border: none;\n",
              "      border-radius: 50%;\n",
              "      cursor: pointer;\n",
              "      display: none;\n",
              "      fill: #1967D2;\n",
              "      height: 32px;\n",
              "      padding: 0 0 0 0;\n",
              "      width: 32px;\n",
              "    }\n",
              "\n",
              "    .colab-df-convert:hover {\n",
              "      background-color: #E2EBFA;\n",
              "      box-shadow: 0px 1px 2px rgba(60, 64, 67, 0.3), 0px 1px 3px 1px rgba(60, 64, 67, 0.15);\n",
              "      fill: #174EA6;\n",
              "    }\n",
              "\n",
              "    .colab-df-buttons div {\n",
              "      margin-bottom: 4px;\n",
              "    }\n",
              "\n",
              "    [theme=dark] .colab-df-convert {\n",
              "      background-color: #3B4455;\n",
              "      fill: #D2E3FC;\n",
              "    }\n",
              "\n",
              "    [theme=dark] .colab-df-convert:hover {\n",
              "      background-color: #434B5C;\n",
              "      box-shadow: 0px 1px 3px 1px rgba(0, 0, 0, 0.15);\n",
              "      filter: drop-shadow(0px 1px 2px rgba(0, 0, 0, 0.3));\n",
              "      fill: #FFFFFF;\n",
              "    }\n",
              "  </style>\n",
              "\n",
              "    <script>\n",
              "      const buttonEl =\n",
              "        document.querySelector('#df-4dfd9476-4d23-4bef-8470-5e056373cf6e button.colab-df-convert');\n",
              "      buttonEl.style.display =\n",
              "        google.colab.kernel.accessAllowed ? 'block' : 'none';\n",
              "\n",
              "      async function convertToInteractive(key) {\n",
              "        const element = document.querySelector('#df-4dfd9476-4d23-4bef-8470-5e056373cf6e');\n",
              "        const dataTable =\n",
              "          await google.colab.kernel.invokeFunction('convertToInteractive',\n",
              "                                                    [key], {});\n",
              "        if (!dataTable) return;\n",
              "\n",
              "        const docLinkHtml = 'Like what you see? Visit the ' +\n",
              "          '<a target=\"_blank\" href=https://colab.research.google.com/notebooks/data_table.ipynb>data table notebook</a>'\n",
              "          + ' to learn more about interactive tables.';\n",
              "        element.innerHTML = '';\n",
              "        dataTable['output_type'] = 'display_data';\n",
              "        await google.colab.output.renderOutput(dataTable, element);\n",
              "        const docLink = document.createElement('div');\n",
              "        docLink.innerHTML = docLinkHtml;\n",
              "        element.appendChild(docLink);\n",
              "      }\n",
              "    </script>\n",
              "  </div>\n",
              "\n",
              "\n",
              "<div id=\"df-b5e3acb9-f305-40d1-8a95-64c03d0237e6\">\n",
              "  <button class=\"colab-df-quickchart\" onclick=\"quickchart('df-b5e3acb9-f305-40d1-8a95-64c03d0237e6')\"\n",
              "            title=\"Suggest charts\"\n",
              "            style=\"display:none;\">\n",
              "\n",
              "<svg xmlns=\"http://www.w3.org/2000/svg\" height=\"24px\"viewBox=\"0 0 24 24\"\n",
              "     width=\"24px\">\n",
              "    <g>\n",
              "        <path d=\"M19 3H5c-1.1 0-2 .9-2 2v14c0 1.1.9 2 2 2h14c1.1 0 2-.9 2-2V5c0-1.1-.9-2-2-2zM9 17H7v-7h2v7zm4 0h-2V7h2v10zm4 0h-2v-4h2v4z\"/>\n",
              "    </g>\n",
              "</svg>\n",
              "  </button>\n",
              "\n",
              "<style>\n",
              "  .colab-df-quickchart {\n",
              "      --bg-color: #E8F0FE;\n",
              "      --fill-color: #1967D2;\n",
              "      --hover-bg-color: #E2EBFA;\n",
              "      --hover-fill-color: #174EA6;\n",
              "      --disabled-fill-color: #AAA;\n",
              "      --disabled-bg-color: #DDD;\n",
              "  }\n",
              "\n",
              "  [theme=dark] .colab-df-quickchart {\n",
              "      --bg-color: #3B4455;\n",
              "      --fill-color: #D2E3FC;\n",
              "      --hover-bg-color: #434B5C;\n",
              "      --hover-fill-color: #FFFFFF;\n",
              "      --disabled-bg-color: #3B4455;\n",
              "      --disabled-fill-color: #666;\n",
              "  }\n",
              "\n",
              "  .colab-df-quickchart {\n",
              "    background-color: var(--bg-color);\n",
              "    border: none;\n",
              "    border-radius: 50%;\n",
              "    cursor: pointer;\n",
              "    display: none;\n",
              "    fill: var(--fill-color);\n",
              "    height: 32px;\n",
              "    padding: 0;\n",
              "    width: 32px;\n",
              "  }\n",
              "\n",
              "  .colab-df-quickchart:hover {\n",
              "    background-color: var(--hover-bg-color);\n",
              "    box-shadow: 0 1px 2px rgba(60, 64, 67, 0.3), 0 1px 3px 1px rgba(60, 64, 67, 0.15);\n",
              "    fill: var(--button-hover-fill-color);\n",
              "  }\n",
              "\n",
              "  .colab-df-quickchart-complete:disabled,\n",
              "  .colab-df-quickchart-complete:disabled:hover {\n",
              "    background-color: var(--disabled-bg-color);\n",
              "    fill: var(--disabled-fill-color);\n",
              "    box-shadow: none;\n",
              "  }\n",
              "\n",
              "  .colab-df-spinner {\n",
              "    border: 2px solid var(--fill-color);\n",
              "    border-color: transparent;\n",
              "    border-bottom-color: var(--fill-color);\n",
              "    animation:\n",
              "      spin 1s steps(1) infinite;\n",
              "  }\n",
              "\n",
              "  @keyframes spin {\n",
              "    0% {\n",
              "      border-color: transparent;\n",
              "      border-bottom-color: var(--fill-color);\n",
              "      border-left-color: var(--fill-color);\n",
              "    }\n",
              "    20% {\n",
              "      border-color: transparent;\n",
              "      border-left-color: var(--fill-color);\n",
              "      border-top-color: var(--fill-color);\n",
              "    }\n",
              "    30% {\n",
              "      border-color: transparent;\n",
              "      border-left-color: var(--fill-color);\n",
              "      border-top-color: var(--fill-color);\n",
              "      border-right-color: var(--fill-color);\n",
              "    }\n",
              "    40% {\n",
              "      border-color: transparent;\n",
              "      border-right-color: var(--fill-color);\n",
              "      border-top-color: var(--fill-color);\n",
              "    }\n",
              "    60% {\n",
              "      border-color: transparent;\n",
              "      border-right-color: var(--fill-color);\n",
              "    }\n",
              "    80% {\n",
              "      border-color: transparent;\n",
              "      border-right-color: var(--fill-color);\n",
              "      border-bottom-color: var(--fill-color);\n",
              "    }\n",
              "    90% {\n",
              "      border-color: transparent;\n",
              "      border-bottom-color: var(--fill-color);\n",
              "    }\n",
              "  }\n",
              "</style>\n",
              "\n",
              "  <script>\n",
              "    async function quickchart(key) {\n",
              "      const quickchartButtonEl =\n",
              "        document.querySelector('#' + key + ' button');\n",
              "      quickchartButtonEl.disabled = true;  // To prevent multiple clicks.\n",
              "      quickchartButtonEl.classList.add('colab-df-spinner');\n",
              "      try {\n",
              "        const charts = await google.colab.kernel.invokeFunction(\n",
              "            'suggestCharts', [key], {});\n",
              "      } catch (error) {\n",
              "        console.error('Error during call to suggestCharts:', error);\n",
              "      }\n",
              "      quickchartButtonEl.classList.remove('colab-df-spinner');\n",
              "      quickchartButtonEl.classList.add('colab-df-quickchart-complete');\n",
              "    }\n",
              "    (() => {\n",
              "      let quickchartButtonEl =\n",
              "        document.querySelector('#df-b5e3acb9-f305-40d1-8a95-64c03d0237e6 button');\n",
              "      quickchartButtonEl.style.display =\n",
              "        google.colab.kernel.accessAllowed ? 'block' : 'none';\n",
              "    })();\n",
              "  </script>\n",
              "</div>\n",
              "\n",
              "    </div>\n",
              "  </div>\n"
            ],
            "application/vnd.google.colaboratory.intrinsic+json": {
              "type": "dataframe",
              "variable_name": "drug_df",
              "summary": "{\n  \"name\": \"drug_df\",\n  \"rows\": 11825,\n  \"fields\": [\n    {\n      \"column\": \"Medicine Name\",\n      \"properties\": {\n        \"dtype\": \"string\",\n        \"num_unique_values\": 11498,\n        \"samples\": [\n          \"Mixbiotic-AC Ear Drop\",\n          \"Druffnil Shampoo\",\n          \"Fungicip 150mg Tablet\"\n        ],\n        \"semantic_type\": \"\",\n        \"description\": \"\"\n      }\n    },\n    {\n      \"column\": \"Uses\",\n      \"properties\": {\n        \"dtype\": \"category\",\n        \"num_unique_values\": 712,\n        \"samples\": [\n          \" Hormone replacement therapy Post menopausal osteoporosis\",\n          \"Treatment of Rheumatoid arthritisTreatment of PsoriasisTreatment of CancerTreatment of Crohn\\u2019s disease\",\n          \"Treatment of Dandruff\"\n        ],\n        \"semantic_type\": \"\",\n        \"description\": \"\"\n      }\n    },\n    {\n      \"column\": \"Side_effects\",\n      \"properties\": {\n        \"dtype\": \"category\",\n        \"num_unique_values\": 1512,\n        \"samples\": [\n          \"Headache Loss of appetite Dizziness Weakness Joint pain Muscle pain\",\n          \"Bone pain Weakness Headache Rash Nausea Increased lactate dehydrogenase level in blood Vomiting Increased uric acid level in blood Oropharyngeal pain Hair loss Fatigue Diarrhea Constipation Decreased appetite Cough Breathing problems Injection site reactions pain swelling redness\",\n          \"Nausea Headache Bloating\"\n        ],\n        \"semantic_type\": \"\",\n        \"description\": \"\"\n      }\n    },\n    {\n      \"column\": \"Manufacturer\",\n      \"properties\": {\n        \"dtype\": \"category\",\n        \"num_unique_values\": 759,\n        \"samples\": [\n          \"Jupiter Pharmaceutical Ltd\",\n          \"Rivan Pharma\",\n          \"Inga Laboratories Pvt Ltd\"\n        ],\n        \"semantic_type\": \"\",\n        \"description\": \"\"\n      }\n    },\n    {\n      \"column\": \"Excellent Review %\",\n      \"properties\": {\n        \"dtype\": \"number\",\n        \"std\": 1.0000422859801021,\n        \"min\": -1.5269427265682112,\n        \"max\": 2.4374921077653955,\n        \"num_unique_values\": 85,\n        \"samples\": [\n          -1.1701435914781866,\n          -0.6547670630148177,\n          1.4463833991819939\n        ],\n        \"semantic_type\": \"\",\n        \"description\": \"\"\n      }\n    },\n    {\n      \"column\": \"Average Review %\",\n      \"properties\": {\n        \"dtype\": \"number\",\n        \"std\": 18,\n        \"min\": 0,\n        \"max\": 88,\n        \"num_unique_values\": 79,\n        \"samples\": [\n          57,\n          56,\n          24\n        ],\n        \"semantic_type\": \"\",\n        \"description\": \"\"\n      }\n    },\n    {\n      \"column\": \"Poor Review %\",\n      \"properties\": {\n        \"dtype\": \"number\",\n        \"std\": 1.000042285980102,\n        \"min\": -1.0723872693326197,\n        \"max\": 3.095847665488922,\n        \"num_unique_values\": 81,\n        \"samples\": [\n          -0.5721990771540348,\n          -0.15537558367188062,\n          -0.5305167278058194\n        ],\n        \"semantic_type\": \"\",\n        \"description\": \"\"\n      }\n    }\n  ]\n}"
            }
          },
          "metadata": {},
          "execution_count": 128
        }
      ],
      "source": [
        "drug_df.head()"
      ]
    },
    {
      "cell_type": "code",
      "execution_count": 129,
      "metadata": {
        "id": "2DE6X5yjHTqR"
      },
      "outputs": [],
      "source": [
        "extracted_features = drug_df.drop(columns = [\"Medicine Name\", \"Uses\", \"Side_effects\", \"Manufacturer\", \"Excellent Review %\"]).values"
      ]
    },
    {
      "cell_type": "code",
      "execution_count": 130,
      "metadata": {
        "colab": {
          "base_uri": "https://localhost:8080/"
        },
        "id": "voafeDKvHuK2",
        "outputId": "85d6dbf5-125d-45c7-9cc6-b35805374e8c"
      },
      "outputs": [
        {
          "output_type": "execute_result",
          "data": {
            "text/plain": [
              "array([[56.        , -0.15537558],\n",
              "       [35.        , -0.32210498],\n",
              "       [40.        , -0.19705793],\n",
              "       ...,\n",
              "       [75.        , -1.07238727],\n",
              "       [ 0.        ,  3.09584767],\n",
              "       [ 0.        ,  3.09584767]])"
            ]
          },
          "metadata": {},
          "execution_count": 130
        }
      ],
      "source": [
        "extracted_features"
      ]
    },
    {
      "cell_type": "code",
      "execution_count": 131,
      "metadata": {
        "colab": {
          "base_uri": "https://localhost:8080/"
        },
        "id": "_d6SaoPWIxnn",
        "outputId": "6464edb4-e042-4bb4-f4db-41d779f6a68c"
      },
      "outputs": [
        {
          "output_type": "execute_result",
          "data": {
            "text/plain": [
              "(11825, 2)"
            ]
          },
          "metadata": {},
          "execution_count": 131
        }
      ],
      "source": [
        "extracted_features.shape"
      ]
    },
    {
      "cell_type": "code",
      "execution_count": 132,
      "metadata": {
        "id": "OYzgyTGYKhM4"
      },
      "outputs": [],
      "source": [
        "final_features = np.hstack((features, extracted_features))"
      ]
    },
    {
      "cell_type": "code",
      "execution_count": 133,
      "metadata": {
        "colab": {
          "base_uri": "https://localhost:8080/"
        },
        "id": "035z02OCLRCl",
        "outputId": "45599a0d-7922-474c-e40a-0397774458a3"
      },
      "outputs": [
        {
          "output_type": "execute_result",
          "data": {
            "text/plain": [
              "array([[ 0.        ,  0.        ,  0.        , ...,  0.        ,\n",
              "        56.        , -0.15537558],\n",
              "       [ 0.        ,  0.        ,  0.        , ...,  0.        ,\n",
              "        35.        , -0.32210498],\n",
              "       [ 0.        ,  0.        ,  0.        , ...,  0.        ,\n",
              "        40.        , -0.19705793],\n",
              "       ...,\n",
              "       [ 0.        ,  0.        ,  0.        , ...,  0.        ,\n",
              "        75.        , -1.07238727],\n",
              "       [ 0.        ,  0.        ,  0.        , ...,  0.        ,\n",
              "         0.        ,  3.09584767],\n",
              "       [ 0.        ,  0.        ,  0.        , ...,  0.        ,\n",
              "         0.        ,  3.09584767]])"
            ]
          },
          "metadata": {},
          "execution_count": 133
        }
      ],
      "source": [
        "final_features"
      ]
    },
    {
      "cell_type": "code",
      "execution_count": 134,
      "metadata": {
        "colab": {
          "base_uri": "https://localhost:8080/"
        },
        "id": "zfkOYzjqLT7U",
        "outputId": "ee1c2922-f949-4cb3-e8ae-6337534bfa9a"
      },
      "outputs": [
        {
          "output_type": "execute_result",
          "data": {
            "text/plain": [
              "(11825, 3401)"
            ]
          },
          "metadata": {},
          "execution_count": 134
        }
      ],
      "source": [
        "final_features.shape"
      ]
    },
    {
      "cell_type": "code",
      "execution_count": 135,
      "metadata": {
        "id": "qd8tvQqFI0Zv"
      },
      "outputs": [],
      "source": [
        "y_target_full = drug_df[\"Excellent Review %\"].values"
      ]
    },
    {
      "cell_type": "code",
      "execution_count": 136,
      "metadata": {
        "colab": {
          "base_uri": "https://localhost:8080/"
        },
        "id": "Ug2YctVLJFb3",
        "outputId": "fd315dad-8083-4479-e0e3-7c8a154d341a"
      },
      "outputs": [
        {
          "output_type": "execute_result",
          "data": {
            "text/plain": [
              "array([-0.65476706,  0.33634165,  0.01918686, ..., -0.53583402,\n",
              "       -1.52694273, -1.52694273])"
            ]
          },
          "metadata": {},
          "execution_count": 136
        }
      ],
      "source": [
        "y_target_full"
      ]
    },
    {
      "cell_type": "code",
      "execution_count": 137,
      "metadata": {
        "colab": {
          "base_uri": "https://localhost:8080/"
        },
        "id": "I1gDo6LbJOgI",
        "outputId": "79e493a9-b4ff-48fd-f922-e4ac9d9f4e99"
      },
      "outputs": [
        {
          "output_type": "execute_result",
          "data": {
            "text/plain": [
              "(11825,)"
            ]
          },
          "metadata": {},
          "execution_count": 137
        }
      ],
      "source": [
        "y_target_full.shape"
      ]
    },
    {
      "cell_type": "code",
      "execution_count": 138,
      "metadata": {
        "id": "tU3fGSqyJaLs"
      },
      "outputs": [],
      "source": [
        "X_train, X_test, y_train, y_test = train_test_split(final_features, y_target_full, test_size = 0.2, random_state = 42)"
      ]
    },
    {
      "cell_type": "code",
      "execution_count": 139,
      "metadata": {
        "colab": {
          "base_uri": "https://localhost:8080/"
        },
        "id": "nEM5xmN7LwSY",
        "outputId": "88545faa-05b3-45b9-fa0c-a4b7b6045585"
      },
      "outputs": [
        {
          "output_type": "stream",
          "name": "stdout",
          "text": [
            "Dimensions of X_train: (9460, 3401)\n",
            "Dimensions of y_train: (9460,)\n"
          ]
        }
      ],
      "source": [
        "print(f\"Dimensions of X_train: {X_train.shape}\")\n",
        "print(f\"Dimensions of y_train: {y_train.shape}\")"
      ]
    },
    {
      "cell_type": "code",
      "execution_count": 140,
      "metadata": {
        "id": "H4gGbxJSL0Ry"
      },
      "outputs": [],
      "source": [
        "model = RandomForestRegressor(n_estimators = 1000, random_state = 42)"
      ]
    },
    {
      "cell_type": "code",
      "execution_count": 141,
      "metadata": {
        "colab": {
          "base_uri": "https://localhost:8080/",
          "height": 74
        },
        "id": "dVBm76FhN-hX",
        "outputId": "29bbcc8e-9c16-45fb-f231-e5cd85944499"
      },
      "outputs": [
        {
          "output_type": "execute_result",
          "data": {
            "text/plain": [
              "RandomForestRegressor(n_estimators=1000, random_state=42)"
            ],
            "text/html": [
              "<style>#sk-container-id-3 {color: black;background-color: white;}#sk-container-id-3 pre{padding: 0;}#sk-container-id-3 div.sk-toggleable {background-color: white;}#sk-container-id-3 label.sk-toggleable__label {cursor: pointer;display: block;width: 100%;margin-bottom: 0;padding: 0.3em;box-sizing: border-box;text-align: center;}#sk-container-id-3 label.sk-toggleable__label-arrow:before {content: \"▸\";float: left;margin-right: 0.25em;color: #696969;}#sk-container-id-3 label.sk-toggleable__label-arrow:hover:before {color: black;}#sk-container-id-3 div.sk-estimator:hover label.sk-toggleable__label-arrow:before {color: black;}#sk-container-id-3 div.sk-toggleable__content {max-height: 0;max-width: 0;overflow: hidden;text-align: left;background-color: #f0f8ff;}#sk-container-id-3 div.sk-toggleable__content pre {margin: 0.2em;color: black;border-radius: 0.25em;background-color: #f0f8ff;}#sk-container-id-3 input.sk-toggleable__control:checked~div.sk-toggleable__content {max-height: 200px;max-width: 100%;overflow: auto;}#sk-container-id-3 input.sk-toggleable__control:checked~label.sk-toggleable__label-arrow:before {content: \"▾\";}#sk-container-id-3 div.sk-estimator input.sk-toggleable__control:checked~label.sk-toggleable__label {background-color: #d4ebff;}#sk-container-id-3 div.sk-label input.sk-toggleable__control:checked~label.sk-toggleable__label {background-color: #d4ebff;}#sk-container-id-3 input.sk-hidden--visually {border: 0;clip: rect(1px 1px 1px 1px);clip: rect(1px, 1px, 1px, 1px);height: 1px;margin: -1px;overflow: hidden;padding: 0;position: absolute;width: 1px;}#sk-container-id-3 div.sk-estimator {font-family: monospace;background-color: #f0f8ff;border: 1px dotted black;border-radius: 0.25em;box-sizing: border-box;margin-bottom: 0.5em;}#sk-container-id-3 div.sk-estimator:hover {background-color: #d4ebff;}#sk-container-id-3 div.sk-parallel-item::after {content: \"\";width: 100%;border-bottom: 1px solid gray;flex-grow: 1;}#sk-container-id-3 div.sk-label:hover label.sk-toggleable__label {background-color: #d4ebff;}#sk-container-id-3 div.sk-serial::before {content: \"\";position: absolute;border-left: 1px solid gray;box-sizing: border-box;top: 0;bottom: 0;left: 50%;z-index: 0;}#sk-container-id-3 div.sk-serial {display: flex;flex-direction: column;align-items: center;background-color: white;padding-right: 0.2em;padding-left: 0.2em;position: relative;}#sk-container-id-3 div.sk-item {position: relative;z-index: 1;}#sk-container-id-3 div.sk-parallel {display: flex;align-items: stretch;justify-content: center;background-color: white;position: relative;}#sk-container-id-3 div.sk-item::before, #sk-container-id-3 div.sk-parallel-item::before {content: \"\";position: absolute;border-left: 1px solid gray;box-sizing: border-box;top: 0;bottom: 0;left: 50%;z-index: -1;}#sk-container-id-3 div.sk-parallel-item {display: flex;flex-direction: column;z-index: 1;position: relative;background-color: white;}#sk-container-id-3 div.sk-parallel-item:first-child::after {align-self: flex-end;width: 50%;}#sk-container-id-3 div.sk-parallel-item:last-child::after {align-self: flex-start;width: 50%;}#sk-container-id-3 div.sk-parallel-item:only-child::after {width: 0;}#sk-container-id-3 div.sk-dashed-wrapped {border: 1px dashed gray;margin: 0 0.4em 0.5em 0.4em;box-sizing: border-box;padding-bottom: 0.4em;background-color: white;}#sk-container-id-3 div.sk-label label {font-family: monospace;font-weight: bold;display: inline-block;line-height: 1.2em;}#sk-container-id-3 div.sk-label-container {text-align: center;}#sk-container-id-3 div.sk-container {/* jupyter's `normalize.less` sets `[hidden] { display: none; }` but bootstrap.min.css set `[hidden] { display: none !important; }` so we also need the `!important` here to be able to override the default hidden behavior on the sphinx rendered scikit-learn.org. See: https://github.com/scikit-learn/scikit-learn/issues/21755 */display: inline-block !important;position: relative;}#sk-container-id-3 div.sk-text-repr-fallback {display: none;}</style><div id=\"sk-container-id-3\" class=\"sk-top-container\"><div class=\"sk-text-repr-fallback\"><pre>RandomForestRegressor(n_estimators=1000, random_state=42)</pre><b>In a Jupyter environment, please rerun this cell to show the HTML representation or trust the notebook. <br />On GitHub, the HTML representation is unable to render, please try loading this page with nbviewer.org.</b></div><div class=\"sk-container\" hidden><div class=\"sk-item\"><div class=\"sk-estimator sk-toggleable\"><input class=\"sk-toggleable__control sk-hidden--visually\" id=\"sk-estimator-id-3\" type=\"checkbox\" checked><label for=\"sk-estimator-id-3\" class=\"sk-toggleable__label sk-toggleable__label-arrow\">RandomForestRegressor</label><div class=\"sk-toggleable__content\"><pre>RandomForestRegressor(n_estimators=1000, random_state=42)</pre></div></div></div></div></div>"
            ]
          },
          "metadata": {},
          "execution_count": 141
        }
      ],
      "source": [
        "model.fit(X_train, y_train)"
      ]
    },
    {
      "cell_type": "code",
      "execution_count": 142,
      "metadata": {
        "id": "vR85eHLoODIl"
      },
      "outputs": [],
      "source": [
        "y_predict = model.predict(X_test)"
      ]
    },
    {
      "cell_type": "code",
      "execution_count": 143,
      "metadata": {
        "id": "nKrencT2RXiK"
      },
      "outputs": [],
      "source": [
        "def model_performance(y_test, y_predict):\n",
        "  mae = mean_absolute_error(y_test, y_predict)\n",
        "  mse = mean_squared_error(y_test, y_predict)\n",
        "  r2 = r2_score(y_test, y_predict)\n",
        "  rmse = np.sqrt(mse)\n",
        "  return mae, mse, rmse, r2\n",
        "  # print(f\"Mean Absolute Error: {mae}\")\n",
        "  # print(f\"Mean Squared Error: {mse}\")\n",
        "  # print(f\"Root Mean Squared Error: {rmse}\")\n",
        "  #print(f\"R2 score: {r2}\")"
      ]
    },
    {
      "cell_type": "code",
      "execution_count": 144,
      "metadata": {
        "id": "0oJoGk5XRvhW"
      },
      "outputs": [],
      "source": [
        "m_a_e, m_s_e, r_m_s_e, r_2 = model_performance(y_test, y_predict)"
      ]
    },
    {
      "cell_type": "code",
      "execution_count": 145,
      "metadata": {
        "colab": {
          "base_uri": "https://localhost:8080/"
        },
        "id": "l8IarHP86eA8",
        "outputId": "722f3d30-42d1-465d-ca1a-d158aa29c23f"
      },
      "outputs": [
        {
          "output_type": "stream",
          "name": "stdout",
          "text": [
            "Mean Absolute Error: 0.008544874113879301\n",
            "Mean Squared Error: 0.0004903383845504577\n",
            "Root Mean Squared Error: 0.022143585629939375\n",
            "R2 Score: 0.9995207210846723\n"
          ]
        }
      ],
      "source": [
        "print(f\"Mean Absolute Error: {m_a_e}\")\n",
        "print(f\"Mean Squared Error: {m_s_e}\")\n",
        "print(f\"Root Mean Squared Error: {r_m_s_e}\")\n",
        "print(f\"R2 Score: {r_2}\")"
      ]
    },
    {
      "cell_type": "code",
      "execution_count": 146,
      "metadata": {
        "colab": {
          "base_uri": "https://localhost:8080/",
          "height": 480
        },
        "id": "eS96S0qQ6qMD",
        "outputId": "9df22304-7e74-44ae-9c49-24b8dc21c0a4"
      },
      "outputs": [
        {
          "output_type": "display_data",
          "data": {
            "text/plain": [
              "<Figure size 1600x600 with 1 Axes>"
            ],
            "image/png": "[encoded data removed]"
          },
          "metadata": {}
        }
      ],
      "source": [
        "plt.figure(figsize = (16, 6))\n",
        "plt.scatter(y_test, y_predict, alpha = 0.5, color = \"g\")\n",
        "minimum_value = min(min(y_test), min(y_predict))\n",
        "maximum_value = max(max(y_test), max(y_predict))\n",
        "plt.plot([minimum_value, maximum_value], [minimum_value, maximum_value], \"--r\", label = \"Ideal Performance\")\n",
        "plt.xlabel(\"Actual Values\")\n",
        "plt.ylabel(\"Predicted Values\")\n",
        "plt.title(\"ACTUAL VALUES vs PREDICTED VALUES\", fontstyle = \"italic\", fontweight = \"bold\")\n",
        "plt.grid(True)\n",
        "plt.legend()\n",
        "plt.gca().spines[['top', 'right',]].set_visible(False)\n",
        "plt.show()"
      ]
    },
    {
      "cell_type": "code",
      "execution_count": 146,
      "metadata": {
        "id": "W0WrN-fC7Qio"
      },
      "outputs": [],
      "source": []
    }
  ],
  "metadata": {
    "colab": {
      "provenance": [],
      "authorship_tag": "ABX9TyOv3oL+6MOa7xZSz4sYa6eo",
      "include_colab_link": true
    },
    "kernelspec": {
      "display_name": "Python 3",
      "name": "python3"
    },
    "language_info": {
      "name": "python"
    }
  },
  "nbformat": 4,
  "nbformat_minor": 0
}
